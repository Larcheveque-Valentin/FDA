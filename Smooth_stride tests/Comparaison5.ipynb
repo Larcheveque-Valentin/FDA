{
 "cells": [
  {
   "cell_type": "code",
   "execution_count": 2,
   "metadata": {},
   "outputs": [],
   "source": [
    "# Import modules\n",
    "import Functional_Data_functions\n",
    "from Functional_Data_functions import Hyperparameter_Test_n_data,LSTM_class,conv_total_out, Smoothing_method,weights_init_normal,HyperParameters,Hyperparameter_Search,Hyperparameter_Test,Hyper_parameter_GridSearch,TSCNN,Compile_train,Compare_epochs, from_torch_to_Datagrid\n",
    "from Functional_Data_functions import Compare_epochs,Compile_class\n",
    "import inspect\n",
    "import random\n",
    "import torch\n",
    "import torch.nn.init as init\n",
    "import torch.nn.functional as F\n",
    "import torch.nn as nn\n",
    "import pandas as pd\n",
    "import os\n",
    "from torch import optim\n",
    "from torch.autograd import Variable\n",
    "from torchvision import datasets, transforms\n",
    "from torchvision.utils import save_image\n",
    "from torch.nn.utils.rnn import pack_sequence\n",
    "import pandas as pd\n",
    "import numpy as np\n",
    "from numpy import *\n",
    "import seaborn as sns\n",
    "import matplotlib\n",
    "from scipy.stats import norm\n",
    "# matplotlib.use('TkAgg')\n",
    "from matplotlib import pyplot as plt\n",
    "import skfda as fda\n",
    "from skfda import representation as representation\n",
    "from skfda.exploratory.visualization import FPCAPlot\n",
    "from skfda.exploratory.visualization import FPCAPlot\n",
    "from skfda.preprocessing.dim_reduction import FPCA\n",
    "from skfda.representation.basis import BSpline, Fourier, Monomial\n",
    "import scipy\n",
    "from scipy.interpolate import BSpline\n",
    "import os\n",
    "import ignite\n",
    "from tqdm import tqdm\n",
    "import sklearn\n",
    "from sklearn.utils import shuffle\n",
    "from sklearn.decomposition import PCA\n",
    "from sklearn.linear_model import LogisticRegression\n",
    "from sklearn.metrics import classification_report, confusion_matrix\n",
    "from sklearn.cluster import KMeans\n",
    "import random\n",
    "from random import seed\n",
    "from scipy import stats\n",
    "import statistics\n",
    "from statistics import stdev\n",
    "import gc\n",
    "import skfda\n",
    "from skfda import FDataGrid as fd\n",
    "from skfda.representation.basis import BSpline as B\n",
    "from Hyper_parameter_search import Compare_n_datas"
   ]
  },
  {
   "cell_type": "code",
   "execution_count": 3,
   "metadata": {},
   "outputs": [
    {
     "name": "stderr",
     "output_type": "stream",
     "text": [
      "c:\\Users\\Utilisateur\\anaconda3\\lib\\site-packages\\rdata\\conversion\\_conversion.py:321: UserWarning: Unknown encoding. Assumed ASCII.\n",
      "  warnings.warn(\"Unknown encoding. Assumed ASCII.\")\n",
      "c:\\Users\\Utilisateur\\anaconda3\\lib\\site-packages\\rdata\\conversion\\_conversion.py:321: UserWarning: Unknown encoding. Assumed ASCII.\n",
      "  warnings.warn(\"Unknown encoding. Assumed ASCII.\")\n"
     ]
    }
   ],
   "source": [
    "##Importation des 1ère données: Phonèmes\n",
    "##Tâche: Classification en 5 classes \n",
    "Phoneme=skfda.datasets.fetch_cran(\"phoneme\",package_name=\"fda.usc\")\n",
    "phoneme=Phoneme['phoneme']\n",
    "\n",
    "x_train,x_test,y_train,y_test=phoneme['learn'],phoneme['test'],phoneme['classlearn'],phoneme['classtest']\n",
    "\n",
    "\n",
    "x_train_tensor=torch.tensor(x_train.data_matrix).reshape(250,1,150).cuda().float()\n",
    "x_test_tensor=torch.tensor(x_test.data_matrix).reshape(250,1,150).cuda().float()\n",
    "y_train_tensor=torch.tensor(y_train.codes).unsqueeze(1).unsqueeze(2).long().cuda()\n",
    "y_test_tensor=torch.tensor(y_test.codes).unsqueeze(1).unsqueeze(2).long().cuda()\n",
    "\n",
    "X1=torch.cat([x_train_tensor,x_test_tensor])\n",
    "Y1=torch.cat([y_train_tensor,y_test_tensor])"
   ]
  },
  {
   "cell_type": "code",
   "execution_count": 4,
   "metadata": {},
   "outputs": [
    {
     "name": "stderr",
     "output_type": "stream",
     "text": [
      "c:\\Users\\Utilisateur\\anaconda3\\lib\\site-packages\\rdata\\conversion\\_conversion.py:843: UserWarning: Missing constructor for R class \"sfts\". The constructor for class \"fts\" will be used instead.\n",
      "  warnings.warn(\n",
      "c:\\Users\\Utilisateur\\anaconda3\\lib\\site-packages\\rdata\\conversion\\_conversion.py:843: UserWarning: Missing constructor for R class \"fts\". The constructor for class \"fds\" will be used instead.\n",
      "  warnings.warn(\n",
      "c:\\Users\\Utilisateur\\anaconda3\\lib\\site-packages\\rdata\\conversion\\_conversion.py:843: UserWarning: Missing constructor for R class \"fds\". The underlying R object is returned instead.\n",
      "  warnings.warn(\n",
      "c:\\Users\\Utilisateur\\anaconda3\\lib\\site-packages\\rdata\\conversion\\_conversion.py:843: UserWarning: Missing constructor for R class \"sfts\". The constructor for class \"fts\" will be used instead.\n",
      "  warnings.warn(\n",
      "c:\\Users\\Utilisateur\\anaconda3\\lib\\site-packages\\rdata\\conversion\\_conversion.py:843: UserWarning: Missing constructor for R class \"fts\". The constructor for class \"fds\" will be used instead.\n",
      "  warnings.warn(\n",
      "c:\\Users\\Utilisateur\\anaconda3\\lib\\site-packages\\rdata\\conversion\\_conversion.py:843: UserWarning: Missing constructor for R class \"fds\". The underlying R object is returned instead.\n",
      "  warnings.warn(\n",
      "c:\\Users\\Utilisateur\\anaconda3\\lib\\site-packages\\rdata\\conversion\\_conversion.py:843: UserWarning: Missing constructor for R class \"sfts\". The constructor for class \"fts\" will be used instead.\n",
      "  warnings.warn(\n",
      "c:\\Users\\Utilisateur\\anaconda3\\lib\\site-packages\\rdata\\conversion\\_conversion.py:843: UserWarning: Missing constructor for R class \"fts\". The constructor for class \"fds\" will be used instead.\n",
      "  warnings.warn(\n",
      "c:\\Users\\Utilisateur\\anaconda3\\lib\\site-packages\\rdata\\conversion\\_conversion.py:843: UserWarning: Missing constructor for R class \"fds\". The underlying R object is returned instead.\n",
      "  warnings.warn(\n",
      "c:\\Users\\Utilisateur\\anaconda3\\lib\\site-packages\\rdata\\conversion\\_conversion.py:843: UserWarning: Missing constructor for R class \"sfts\". The constructor for class \"fts\" will be used instead.\n",
      "  warnings.warn(\n",
      "c:\\Users\\Utilisateur\\anaconda3\\lib\\site-packages\\rdata\\conversion\\_conversion.py:843: UserWarning: Missing constructor for R class \"fts\". The constructor for class \"fds\" will be used instead.\n",
      "  warnings.warn(\n",
      "c:\\Users\\Utilisateur\\anaconda3\\lib\\site-packages\\rdata\\conversion\\_conversion.py:843: UserWarning: Missing constructor for R class \"fds\". The underlying R object is returned instead.\n",
      "  warnings.warn(\n"
     ]
    },
    {
     "data": {
      "text/plain": [
       "100"
      ]
     },
     "execution_count": 4,
     "metadata": {},
     "output_type": "execute_result"
    }
   ],
   "source": [
    "##Importation des 2nd données: El_nino\n",
    "##Tâche: Classification en 4 classes \n",
    "ElNino_OISST_region_1and2=skfda.datasets.fetch_cran(\"ElNino_OISST_region_1and2\",\"rainbow\")\n",
    "ElNino_OISST_region_3=skfda.datasets.fetch_cran(\"ElNino_OISST_region_3\",\"rainbow\")\n",
    "ElNino_OISST_region_4=skfda.datasets.fetch_cran(\"ElNino_OISST_region_4\",\"rainbow\")\n",
    "ElNino_OISST_region_3and4=skfda.datasets.fetch_cran(\"ElNino_OISST_region_3and4\",\"rainbow\")\n",
    "ElNino_OISST_region_1and2_y=ElNino_OISST_region_1and2['ElNino_OISST_region_1and2']['y'].to_numpy()\n",
    "ElNino_OISST_region_1and2_x=ElNino_OISST_region_1and2['ElNino_OISST_region_1and2']['x']\n",
    "# plt.plot(ElNino_OISST_region_1and2_x,ElNino_OISST_region_1and2_y)\n",
    "# plt.show(\n",
    "# )\n",
    "ElNino_OISST_region_3_y=ElNino_OISST_region_3['ElNino_OISST_region_3']['y'].to_numpy()\n",
    "ElNino_OISST_region_3_x=ElNino_OISST_region_3['ElNino_OISST_region_3']['x']\n",
    "# plt.plot(ElNino_OISST_region_3_x,ElNino_OISST_region_3_y)\n",
    "# plt.show(\n",
    "\n",
    "# )\n",
    "ElNino_OISST_region_3and4_y=ElNino_OISST_region_3and4['ElNino_OISST_region_3and4']['y'].to_numpy()\n",
    "ElNino_OISST_region_3and4_x=ElNino_OISST_region_3and4['ElNino_OISST_region_3and4']['x']\n",
    "# plt.plot(ElNino_OISST_region_3and4_x,ElNino_OISST_region_3and4_y)\n",
    "# plt.show(\n",
    "# )\n",
    "\n",
    "\n",
    "ElNino_OISST_region_4_y=ElNino_OISST_region_4['ElNino_OISST_region_4']['y'].to_numpy()\n",
    "ElNino_OISST_region_4_x=ElNino_OISST_region_4['ElNino_OISST_region_4']['x']\n",
    "# plt.plot(ElNino_OISST_region_4_x,ElNino_OISST_region_4_y)\n",
    "# plt.show(\n",
    "# )\n",
    "grid_points=ElNino_OISST_region_1and2_x\n",
    "T=len(grid_points)\n",
    "x0=torch.tensor(ElNino_OISST_region_1and2_y).float().cuda()\n",
    "x1=torch.tensor(ElNino_OISST_region_3_y).float().cuda()\n",
    "x2=torch.tensor(ElNino_OISST_region_4_y).float().cuda()\n",
    "x3=torch.tensor(ElNino_OISST_region_3and4_y).float().cuda()\n",
    "x0=torch.t(x0)\n",
    "x1=torch.t(x1)\n",
    "x2=torch.t(x2)\n",
    "x3=torch.t(x3)\n",
    "\n",
    "\n",
    "Y2= torch.tensor([0] * x0.shape[0] + [1] * x1.shape[0] + [2] * x2.shape[0] + [3] * x3.shape[0]).unsqueeze(1).unsqueeze(2).cuda()\n",
    "X2=torch.concatenate([x0,x1,x2,x3]).reshape(148,1,12)\n",
    "\n",
    "\n",
    "tec=skfda.datasets.fetch_cran(\"tecator\",\"fda.usc\")\n",
    "len(tec['tecator']['absorp.fdata'].grid_points[0])"
   ]
  },
  {
   "cell_type": "code",
   "execution_count": 5,
   "metadata": {},
   "outputs": [
    {
     "name": "stdout",
     "output_type": "stream",
     "text": [
      "Index(['V1', 'V2', 'V3', 'V4', 'V5', 'V6', 'V7', 'V8', 'V9', 'V10',\n",
      "       ...\n",
      "       'V165', 'V166', 'V167', 'V168', 'V169', 'V170', 'V171', 'V172', 'V173',\n",
      "       'V174'],\n",
      "      dtype='object', length=174)\n"
     ]
    },
    {
     "data": {
      "text/plain": [
       "torch.Size([520, 1, 20])"
      ]
     },
     "execution_count": 5,
     "metadata": {},
     "output_type": "execute_result"
    }
   ],
   "source": [
    "####Importation des 3ème données: SOFA\n",
    "##Tâche: Classification binaire\n",
    "\n",
    "os.chdir(\"C:/Users/Utilisateur/Documents/Master_SSD/STAGE_RECHERCHE/Smooth_strides_tests\")\n",
    "# Lire le fichier CSV\n",
    "sofa = pd.read_csv('sofa.csv')\n",
    "T=20\n",
    "# Attribuer des noms de colonnes personnalisés\n",
    "\n",
    "\n",
    "# Afficher les noms de colonnes\n",
    "print(sofa.columns)\n",
    "grid_points=np.arange(T+1)[1:]\n",
    "sofa.values.shape\n",
    "Y_X=torch.from_numpy(sofa.values).float().cuda()\n",
    "\n",
    "Y3,X3=Y_X[:,0].unsqueeze(1).unsqueeze(2).long(),Y_X[:,1:T+1].reshape(520,1,T)\n",
    "X3.shape\n"
   ]
  },
  {
   "cell_type": "code",
   "execution_count": 6,
   "metadata": {},
   "outputs": [
    {
     "data": {
      "text/plain": [
       "((215, 100, 1), torch.Size([215, 3, 1, 1]))"
      ]
     },
     "execution_count": 6,
     "metadata": {},
     "output_type": "execute_result"
    }
   ],
   "source": [
    "\n",
    "tec=skfda.datasets.fetch_cran(\"tecator\",\"fda.usc\")\n",
    "X5=tec['tecator']['absorp.fdata']\n",
    "Y5=torch.tensor(tec['tecator'][\"y\"].values).unsqueeze(2).unsqueeze(3).float().cuda()\n",
    "X5.data_matrix.shape,Y5.shape\n"
   ]
  },
  {
   "cell_type": "code",
   "execution_count": 7,
   "metadata": {},
   "outputs": [],
   "source": [
    "X4,Y4=skfda.datasets.fetch_weather(return_X_y=True)\n",
    "Y4=torch.tensor(Y4).long().unsqueeze(1).unsqueeze(2).cuda()\n",
    "smoother=Smoothing_method(Mode='smooth',order=4,n_knots=8)\n",
    "\n",
    "basis=skfda.representation.basis.VectorValuedBasis([smoother.smoothing()\n",
    "    ,\n",
    "    smoother.smoothing(),\n",
    "\n",
    "])\n",
    "param4=HyperParameters(n_channel=1,basis=smoother.smoothing())\n"
   ]
  },
  {
   "cell_type": "code",
   "execution_count": 8,
   "metadata": {},
   "outputs": [],
   "source": [
    "##Création des dictionnaires de datasets\n",
    "data_dict1 = {\n",
    "    'X': X1,\n",
    "    'Y': Y1,\n",
    "    'dataset_name': \"Phoneme (500 data_points, 5 classes, 1 channel)\"\n",
    "}\n",
    "data_dict2= {\n",
    "    'X': X2,\n",
    "    'Y': Y2,\n",
    "    'dataset_name': \"El Nino (150 data_points, 4 classes, 1 channel)\"\n",
    "}\n",
    "data_dict3 = {\n",
    "    'X': X3,\n",
    "    'Y': Y3,\n",
    "    'dataset_name': \"Sofa (520 data_points, 2 classes, 1 channel)\"\n",
    "}\n",
    "data_dict4 = {\n",
    "    'X': X4,\n",
    "    'Y': Y4,\n",
    "    'dataset_name': \"Canadian_weather (35 data_points, 4 classes, 2 channel)\"\n",
    "}\n",
    "data_dict5= {\n",
    "    'X': X5,\n",
    "    'Y': Y5,\n",
    "    'dataset_name': \"Tecator, Régression multiple (215 datapoints, 3 régressions, 1 channel)\"\n",
    "}\n",
    "\n",
    "\n",
    "##Création des listes de modèles  \n"
   ]
  },
  {
   "cell_type": "code",
   "execution_count": 9,
   "metadata": {},
   "outputs": [
    {
     "data": {
      "text/plain": [
       "5"
      ]
     },
     "execution_count": 9,
     "metadata": {},
     "output_type": "execute_result"
    }
   ],
   "source": [
    "##Création des méthodes de smoothing pour chaque dataset:\n",
    "##Phoneme\n",
    "Smoother1=Smoothing_method(n_knots=8,order=4)\n",
    "\n",
    "##Choix du nombre d'epochs \n",
    "n_epoch=10\n",
    "opt_mlp='Adam'\n",
    "opt_TSC=\"Adam\"\n",
    "opt_lstm=\"SGD\"\n",
    "lr_TSC=0.001\n",
    "lr_mlp=0.001,\n",
    "lr_lstm=0.0089\n",
    "n_convin=32\n",
    "##Création des hyperparamètres:\n",
    "\n",
    "param_mlp=HyperParameters(n_epochs=n_epoch, Smoothing_method=Smoother1, granulation=5000,\n",
    "                 n_conv_in=259, n_conv_in2=128, n_conv_in3=128,n_conv_out=2, n_Flat_out=256,\n",
    "                 stride_1=200, stride_2=1, stride_3=1,\n",
    "                 stride_pool_1=1, stride_pool_2=2, stride_pool_3=2,\n",
    "                 kernel_size_1=7,  kernel_size_2=3, kernel_size_3=4,\n",
    "                 kernel_size_pool_1=3, kernel_size_pool_2=2, kernel_size_pool_3=3,\n",
    "                 dilation_1=175, dilation_2=1, dilation_3=1,\n",
    "                 dilation_pool_1=1, dilation_pool_2=1, dilation_pool_3=1,\n",
    "                 padding_1=0, padding_2=2, padding_3=2,\n",
    "                 padding_pool_1=1, padding_pool_2=1, padding_pool_3=1,\n",
    "                 opt=\"Adam\",decay=0.0003,lr_decay=0.0003,nesterov=False, lr=0.0089, loss=nn.CrossEntropyLoss(),activation=nn.Identity(),negative_slope=0.17,\n",
    "                 derivative=[0],\n",
    "                 bidirectional=True)\n",
    "\n",
    "param_lstm=HyperParameters(n_epochs=n_epoch, Smoothing_method=Smoother1, granulation=5500,\n",
    "                 n_conv_in=259, n_conv_in2=128, n_conv_in3=128, n_Flat_out=256,\n",
    "                 stride_1=15, stride_2=1, stride_3=1,\n",
    "                 stride_pool_1=10, stride_pool_2=1, stride_pool_3=1,\n",
    "                 kernel_size_1=60,  kernel_size_2=2, kernel_size_3=4,\n",
    "                 kernel_size_pool_1=3, kernel_size_pool_2=2, kernel_size_pool_3=2,\n",
    "                 dilation_1=30, dilation_2=30, dilation_3=1,\n",
    "                 dilation_pool_1=1, dilation_pool_2=1, dilation_pool_3=1,\n",
    "                 padding_1=0, padding_2=2, padding_3=2,\n",
    "                 padding_pool_1=0, padding_pool_2=0, padding_pool_3=0,\n",
    "                 opt=opt_lstm,lr_decay=0.0005, lr=lr_lstm, loss=nn.CrossEntropyLoss(),\n",
    "                 activation=nn.Sigmoid(), nesterov=False,dropout=0.00,bidirectional=False,\n",
    "                 negative_slope=0.18,derivative=[0,1,2])\n",
    "param_TSCNN=HyperParameters(n_epochs=n_epoch, Smoothing_method=Smoother1, granulation=4000,\n",
    "                 n_conv_in=n_convin, n_conv_in2=128, n_conv_in3=128, n_Flat_out=64,\n",
    "                 stride_1=90, stride_2=1, stride_3=1,\n",
    "                 stride_pool_1=3, stride_pool_2=2, stride_pool_3=2,\n",
    "                 kernel_size_1=5,  kernel_size_2=3, kernel_size_3=4,\n",
    "                 kernel_size_pool_1=3, kernel_size_pool_2=2, kernel_size_pool_3=3,\n",
    "                 dilation_1=200, dilation_2=1, dilation_3=1,\n",
    "                 dilation_pool_1=1, dilation_pool_2=1, dilation_pool_3=1,\n",
    "                 padding_1=0, padding_2=2, padding_3=2,\n",
    "                 padding_pool_1=1, padding_pool_2=1, padding_pool_3=1,\n",
    "                 opt=opt_TSC, lr=lr_TSC, loss=nn.CrossEntropyLoss(),nesterov=False,\n",
    "                 activation=nn.Identity(),\n",
    "                 negative_slope=0.18,bidirectional=True)\n",
    "param_TSCNN_deriv=HyperParameters(n_epochs=n_epoch, Smoothing_method=Smoother1, granulation=4000,\n",
    "                 n_conv_in=n_convin, n_conv_in2=128, n_conv_in3=128, n_Flat_out=64,\n",
    "                 stride_1=90, stride_2=1, stride_3=1,\n",
    "                 stride_pool_1=3, stride_pool_2=2, stride_pool_3=2,\n",
    "                 kernel_size_1=5,  kernel_size_2=3, kernel_size_3=4,\n",
    "                 kernel_size_pool_1=3, kernel_size_pool_2=2, kernel_size_pool_3=3,\n",
    "                 dilation_1=200, dilation_2=1, dilation_3=1,\n",
    "                 dilation_pool_1=1, dilation_pool_2=1, dilation_pool_3=1,\n",
    "                 padding_1=0, padding_2=2, padding_3=2,\n",
    "                 padding_pool_1=1, padding_pool_2=1, padding_pool_3=1,\n",
    "                 opt=opt_TSC, lr=lr_TSC, loss=nn.CrossEntropyLoss(),nesterov=False,\n",
    "                 activation=nn.Identity(),\n",
    "                 negative_slope=0.18,derivative=[0,1],bidirectional=True)\n",
    "param_TSCNN_deriv2=HyperParameters(n_epochs=n_epoch, Smoothing_method=Smoother1, granulation=4000,\n",
    "                 n_conv_in=n_convin, n_conv_in2=128, n_conv_in3=128, n_Flat_out=64,\n",
    "                 stride_1=90, stride_2=1, stride_3=1,\n",
    "                 stride_pool_1=3, stride_pool_2=2, stride_pool_3=2,\n",
    "                 kernel_size_1=5,  kernel_size_2=3, kernel_size_3=4,\n",
    "                 kernel_size_pool_1=3, kernel_size_pool_2=2, kernel_size_pool_3=3,\n",
    "                 dilation_1=200, dilation_2=1, dilation_3=1,\n",
    "                 dilation_pool_1=1, dilation_pool_2=1, dilation_pool_3=1,\n",
    "                 padding_1=0, padding_2=2, padding_3=2,\n",
    "                 padding_pool_1=0, padding_pool_2=0, padding_pool_3=0,\n",
    "                 opt=opt_TSC, lr=lr_TSC, loss=nn.CrossEntropyLoss(),nesterov=False,\n",
    "                 activation=nn.Identity(),\n",
    "                 negative_slope=0.18,derivative=[0,1,2],bidirectional=True)\n",
    "\n",
    "params_list=[param_TSCNN_deriv]\n",
    "params_special=[\n",
    "param_TSCNN,\n",
    "param_lstm,\n",
    "param_mlp,\n",
    "param_TSCNN_deriv,\n",
    "param_TSCNN_deriv2]\n",
    "model_list=[\"TSC\",\"LSTM\",\"MLP\",\"TSC\",\"TSC\"]\n",
    "colors=[\"black\",\"magenta\",\"darkgreen\",\"darkblue\",\"darkred\",]\n",
    "label=[\" sans dérivées\",\" \",\" \",\" avec dérivée d'ordre 1\",\" avec dérivées d'ordre 1 et 2\"]\n",
    "Data_list=[data_dict1,data_dict2,data_dict3,data_dict4]\n",
    "conv_total_out(param_TSCNN_deriv)"
   ]
  },
  {
   "cell_type": "code",
   "execution_count": 10,
   "metadata": {},
   "outputs": [
    {
     "data": {
      "text/plain": [
       "25"
      ]
     },
     "execution_count": 10,
     "metadata": {},
     "output_type": "execute_result"
    }
   ],
   "source": [
    "HyperParameters().n_epochs"
   ]
  },
  {
   "cell_type": "code",
   "execution_count": 11,
   "metadata": {},
   "outputs": [
    {
     "name": "stderr",
     "output_type": "stream",
     "text": [
      "100%|██████████| 4/4 [03:03<00:00, 45.83s/it]\n"
     ]
    },
    {
     "data": {
      "text/plain": [
       "tensor([54.2000, 64.2000, 72.4000, 78.0000, 74.8000, 80.8000, 82.4000, 82.8000,\n",
       "        82.4000, 80.8000, 84.8000, 84.0000, 83.4000, 84.2000, 86.2000, 85.0000,\n",
       "        84.2000, 84.4000, 84.2000, 86.2000, 88.4000, 86.2000, 85.8000, 87.8000,\n",
       "        86.0000])"
      ]
     },
     "execution_count": 11,
     "metadata": {},
     "output_type": "execute_result"
    }
   ],
   "source": [
    "Hyperparameter_Test(supra_epochs=4,X=X1,Y=Y1,model_class=\"lstm\")[1]"
   ]
  },
  {
   "cell_type": "code",
   "execution_count": 12,
   "metadata": {},
   "outputs": [
    {
     "name": "stdout",
     "output_type": "stream",
     "text": [
      "Phoneme (500 data_points, 5 classes, 1 channel)\n",
      "TSC sans dérivées\n"
     ]
    },
    {
     "ename": "TypeError",
     "evalue": "Hyperparameter_Test() got an unexpected keyword argument 'x'",
     "output_type": "error",
     "traceback": [
      "\u001b[1;31m---------------------------------------------------------------------------\u001b[0m",
      "\u001b[1;31mTypeError\u001b[0m                                 Traceback (most recent call last)",
      "\u001b[1;32m~\\AppData\\Local\\Temp\\ipykernel_22512\\3737777567.py\u001b[0m in \u001b[0;36m<module>\u001b[1;34m\u001b[0m\n\u001b[0;32m      3\u001b[0m \u001b[0mparam_lstm\u001b[0m\u001b[1;33m.\u001b[0m\u001b[0mn_epochs\u001b[0m\u001b[1;33m=\u001b[0m\u001b[1;36m5\u001b[0m\u001b[1;33m\u001b[0m\u001b[1;33m\u001b[0m\u001b[0m\n\u001b[0;32m      4\u001b[0m \u001b[1;33m\u001b[0m\u001b[0m\n\u001b[1;32m----> 5\u001b[1;33m fig,monte_carlo_test_acc,monte_carlo_train_acc,mean_acc_train,mean_acc_test,var_acc_train,var_acc_test,IC_acc_train,IC_acc_test=Compare_epochs(\n\u001b[0m\u001b[0;32m      6\u001b[0m     \u001b[0mdatasets\u001b[0m\u001b[1;33m=\u001b[0m\u001b[0mData_list\u001b[0m\u001b[1;33m,\u001b[0m\u001b[1;33m\u001b[0m\u001b[1;33m\u001b[0m\u001b[0m\n\u001b[0;32m      7\u001b[0m     \u001b[0mmodels\u001b[0m\u001b[1;33m=\u001b[0m\u001b[0mmodel_list\u001b[0m\u001b[1;33m,\u001b[0m\u001b[1;33m\u001b[0m\u001b[1;33m\u001b[0m\u001b[0m\n",
      "\u001b[1;32mc:\\Users\\Utilisateur\\Documents\\Master_SSD\\STAGE_RECHERCHE\\FDA_python\\Smooth_stride tests\\Functional_Data_functions.py\u001b[0m in \u001b[0;36mCompare_epochs\u001b[1;34m(params, spec_param, datasets, models, supra_epochs, alpha, colors, label, Conf_int)\u001b[0m\n\u001b[0;32m    976\u001b[0m \u001b[1;33m\u001b[0m\u001b[0m\n\u001b[0;32m    977\u001b[0m \u001b[1;33m\u001b[0m\u001b[0m\n\u001b[1;32m--> 978\u001b[1;33m                 monte_carlo_test_acc[:,:,i,j,k],mean_acc_test[:,i,j,k],IC_acc_test[:,:,i,j,k]=Hyperparameter_Test(model_class=model,\n\u001b[0m\u001b[0;32m    979\u001b[0m \u001b[1;33m\u001b[0m\u001b[0m\n\u001b[0;32m    980\u001b[0m                     \u001b[0mhyperparameters\u001b[0m\u001b[1;33m=\u001b[0m\u001b[0mspec_param\u001b[0m\u001b[1;33m[\u001b[0m\u001b[0mk\u001b[0m\u001b[1;33m]\u001b[0m\u001b[1;33m,\u001b[0m\u001b[1;33m\u001b[0m\u001b[1;33m\u001b[0m\u001b[0m\n",
      "\u001b[1;31mTypeError\u001b[0m: Hyperparameter_Test() got an unexpected keyword argument 'x'"
     ]
    },
    {
     "data": {
      "image/png": "[encoded data removed]",
      "text/plain": [
       "<Figure size 1200x1200 with 4 Axes>"
      ]
     },
     "metadata": {},
     "output_type": "display_data"
    }
   ],
   "source": [
    "##En fonctions des epochs\n",
    "param_lstm=HyperParameters()\n",
    "param_lstm.n_epochs=5\n",
    "\n",
    "fig,monte_carlo_test_acc,mean_acc_test,IC_acc_test=Compare_epochs(\n",
    "    datasets=Data_list,\n",
    "    models=model_list,\n",
    "    params=params_list,\n",
    "    spec_param=params_special,\n",
    "    colors=colors,\n",
    "    alpha=0.95,\n",
    "    label=label,\n",
    "    supra_epochs=2,\n",
    "    Conf_int=False\n",
    ")\n",
    "monte_carlo_test_acc.shape"
   ]
  },
  {
   "cell_type": "code",
   "execution_count": null,
   "metadata": {},
   "outputs": [
    {
     "data": {
      "text/plain": [
       "array([0.1       , 0.09292857, 0.08585714, 0.07878571, 0.07171429,\n",
       "       0.06464286, 0.05757143, 0.0505    , 0.04342857, 0.03635714,\n",
       "       0.02928571, 0.02221429, 0.01514286, 0.00807143, 0.001     ])"
      ]
     },
     "metadata": {},
     "output_type": "display_data"
    }
   ],
   "source": [
    "param_grid_searcher=\"lr\"\n",
    "param_lstm.\n",
    "param_lstm.n_epochs=5\n",
    "grid=linspace(1e-1,1e-3,15)\n",
    "grid\n"
   ]
  },
  {
   "cell_type": "code",
   "execution_count": null,
   "metadata": {},
   "outputs": [],
   "source": [
    "grids = {\n",
    "    \"n_epochs\": 25,\n",
    "    \"n_conv_in\": (32,64, 128,256),\n",
    "    \"n_conv_in2\": (32,64, 128,256),\n",
    "    \"n_conv_in3\": (32,64, 128,256),\n",
    "    \"n_Flat_out\": (32,64, 128,256),\n",
    "    \"stride_1\": (1,2),\n",
    "    \"stride_2\": (1,2),\n",
    "    \"stride_3\": 1,\n",
    "    \"stride_pool_1\": 1,\n",
    "    \"stride_pool_2\": 1,\n",
    "    \"stride_pool_3\": 1,\n",
    "    \"kernel_size_1\": (4,5,6,7),\n",
    "    \"kernel_size_2\": (2,3,4),\n",
    "    \"kernel_size_3\": (2,3,4),\n",
    "    \"kernel_size_pool_1\": np.arange(3)[2:],\n",
    "    \"kernel_size_pool_2\": np.arange(3)[2:],\n",
    "    \"kernel_size_pool_3\": (2,3),\n",
    "    \"dilation_1\": np.arange(3)[1:],\n",
    "    \"dilation_2\": np.arange(3)[1:],\n",
    "    \"dilation_3\": np.arange(3)[1:],\n",
    "    \"dilation_pool_1\": 1,\n",
    "    \"dilation_pool_2\": 1,\n",
    "    \"dilation_pool_3\": 1,\n",
    "    \"padding_1\": np.arange(3)[1:],\n",
    "    \"padding_2\": np.arange(3)[1:],\n",
    "    \"padding_3\": np.arange(3)[1:],\n",
    "    \"padding_pool_1\": np.arange(2)[1:],\n",
    "    \"padding_pool_2\": np.arange(2)[1:],\n",
    "    \"padding_pool_3\": np.arange(2)[1:],\n",
    "    \"opt\": \"Adam\",\n",
    "    \"lr\": (0.00089,0.0001,0.00007),\n",
    "    \"loss\": nn.CrossEntropyLoss(),\n",
    "    \"activation\": [nn.Tanh(),nn.Sigmoid()],\n",
    "    \"lr\":(0.0001,0.0005,0.001,0.005,0.0089),\n",
    "    \"opt\":[\"Adam\",\"SGD\",\"Adagrad\",\"AdaDelta\"]\n",
    "}\n"
   ]
  },
  {
   "cell_type": "code",
   "execution_count": null,
   "metadata": {},
   "outputs": [],
   "source": [
    "parametres_a_tester=[\"opt\",\"activation\",\"lr\"]"
   ]
  },
  {
   "cell_type": "code",
   "execution_count": null,
   "metadata": {},
   "outputs": [
    {
     "name": "stdout",
     "output_type": "stream",
     "text": [
      "opt = Adam\n"
     ]
    },
    {
     "name": "stderr",
     "output_type": "stream",
     "text": [
      "100%|██████████| 1/1 [00:56<00:00, 56.10s/it]\n"
     ]
    },
    {
     "name": "stdout",
     "output_type": "stream",
     "text": [
      "opt = SGD\n"
     ]
    },
    {
     "name": "stderr",
     "output_type": "stream",
     "text": [
      "100%|██████████| 1/1 [00:54<00:00, 54.85s/it]\n"
     ]
    },
    {
     "name": "stdout",
     "output_type": "stream",
     "text": [
      "opt = Adagrad\n"
     ]
    },
    {
     "name": "stderr",
     "output_type": "stream",
     "text": [
      "100%|██████████| 1/1 [00:55<00:00, 55.10s/it]\n"
     ]
    },
    {
     "name": "stdout",
     "output_type": "stream",
     "text": [
      "opt = AdaDelta\n"
     ]
    },
    {
     "name": "stderr",
     "output_type": "stream",
     "text": [
      "100%|██████████| 1/1 [00:53<00:00, 53.57s/it]\n"
     ]
    },
    {
     "name": "stdout",
     "output_type": "stream",
     "text": [
      "opt = Adam\n"
     ]
    },
    {
     "name": "stderr",
     "output_type": "stream",
     "text": [
      "100%|██████████| 1/1 [00:53<00:00, 53.48s/it]\n"
     ]
    },
    {
     "name": "stdout",
     "output_type": "stream",
     "text": [
      "opt = SGD\n"
     ]
    },
    {
     "name": "stderr",
     "output_type": "stream",
     "text": [
      "100%|██████████| 1/1 [00:51<00:00, 51.32s/it]\n"
     ]
    },
    {
     "name": "stdout",
     "output_type": "stream",
     "text": [
      "opt = Adagrad\n"
     ]
    },
    {
     "name": "stderr",
     "output_type": "stream",
     "text": [
      "100%|██████████| 1/1 [00:44<00:00, 44.70s/it]\n"
     ]
    },
    {
     "name": "stdout",
     "output_type": "stream",
     "text": [
      "opt = AdaDelta\n"
     ]
    },
    {
     "name": "stderr",
     "output_type": "stream",
     "text": [
      "100%|██████████| 1/1 [00:44<00:00, 44.36s/it]\n"
     ]
    },
    {
     "name": "stdout",
     "output_type": "stream",
     "text": [
      "opt = Adam\n"
     ]
    },
    {
     "name": "stderr",
     "output_type": "stream",
     "text": [
      "100%|██████████| 1/1 [00:44<00:00, 44.11s/it]\n"
     ]
    },
    {
     "name": "stdout",
     "output_type": "stream",
     "text": [
      "opt = SGD\n"
     ]
    },
    {
     "name": "stderr",
     "output_type": "stream",
     "text": [
      "100%|██████████| 1/1 [00:43<00:00, 43.42s/it]\n"
     ]
    },
    {
     "name": "stdout",
     "output_type": "stream",
     "text": [
      "opt = Adagrad\n"
     ]
    },
    {
     "name": "stderr",
     "output_type": "stream",
     "text": [
      "100%|██████████| 1/1 [00:47<00:00, 47.97s/it]\n"
     ]
    },
    {
     "name": "stdout",
     "output_type": "stream",
     "text": [
      "opt = AdaDelta\n"
     ]
    },
    {
     "name": "stderr",
     "output_type": "stream",
     "text": [
      "100%|██████████| 1/1 [00:45<00:00, 45.56s/it]\n"
     ]
    },
    {
     "name": "stdout",
     "output_type": "stream",
     "text": [
      "opt = Adam\n"
     ]
    },
    {
     "name": "stderr",
     "output_type": "stream",
     "text": [
      "100%|██████████| 1/1 [00:46<00:00, 46.03s/it]\n"
     ]
    },
    {
     "name": "stdout",
     "output_type": "stream",
     "text": [
      "opt = SGD\n"
     ]
    },
    {
     "name": "stderr",
     "output_type": "stream",
     "text": [
      "100%|██████████| 1/1 [00:45<00:00, 45.36s/it]\n"
     ]
    },
    {
     "name": "stdout",
     "output_type": "stream",
     "text": [
      "opt = Adagrad\n"
     ]
    },
    {
     "name": "stderr",
     "output_type": "stream",
     "text": [
      "100%|██████████| 1/1 [00:44<00:00, 44.70s/it]\n"
     ]
    },
    {
     "name": "stdout",
     "output_type": "stream",
     "text": [
      "opt = AdaDelta\n"
     ]
    },
    {
     "name": "stderr",
     "output_type": "stream",
     "text": [
      "100%|██████████| 1/1 [00:43<00:00, 43.88s/it]\n"
     ]
    },
    {
     "name": "stdout",
     "output_type": "stream",
     "text": [
      "activation = Tanh()\n"
     ]
    },
    {
     "name": "stderr",
     "output_type": "stream",
     "text": [
      "100%|██████████| 1/1 [00:47<00:00, 47.98s/it]\n"
     ]
    },
    {
     "name": "stdout",
     "output_type": "stream",
     "text": [
      "activation = Sigmoid()\n"
     ]
    },
    {
     "name": "stderr",
     "output_type": "stream",
     "text": [
      "100%|██████████| 1/1 [00:50<00:00, 50.52s/it]\n"
     ]
    },
    {
     "name": "stdout",
     "output_type": "stream",
     "text": [
      "activation = Tanh()\n"
     ]
    },
    {
     "name": "stderr",
     "output_type": "stream",
     "text": [
      "100%|██████████| 1/1 [00:47<00:00, 47.62s/it]\n"
     ]
    },
    {
     "name": "stdout",
     "output_type": "stream",
     "text": [
      "activation = Sigmoid()\n"
     ]
    },
    {
     "name": "stderr",
     "output_type": "stream",
     "text": [
      "100%|██████████| 1/1 [00:43<00:00, 43.61s/it]\n"
     ]
    },
    {
     "name": "stdout",
     "output_type": "stream",
     "text": [
      "lr = 0.0001\n"
     ]
    },
    {
     "name": "stderr",
     "output_type": "stream",
     "text": [
      "100%|██████████| 1/1 [00:43<00:00, 43.96s/it]\n"
     ]
    },
    {
     "name": "stdout",
     "output_type": "stream",
     "text": [
      "lr = 0.0005\n"
     ]
    },
    {
     "name": "stderr",
     "output_type": "stream",
     "text": [
      "100%|██████████| 1/1 [00:43<00:00, 43.34s/it]\n"
     ]
    },
    {
     "name": "stdout",
     "output_type": "stream",
     "text": [
      "lr = 0.001\n"
     ]
    },
    {
     "name": "stderr",
     "output_type": "stream",
     "text": [
      "100%|██████████| 1/1 [00:43<00:00, 43.84s/it]\n"
     ]
    },
    {
     "name": "stdout",
     "output_type": "stream",
     "text": [
      "lr = 0.005\n"
     ]
    },
    {
     "name": "stderr",
     "output_type": "stream",
     "text": [
      "100%|██████████| 1/1 [00:43<00:00, 43.82s/it]\n"
     ]
    },
    {
     "name": "stdout",
     "output_type": "stream",
     "text": [
      "lr = 0.0089\n"
     ]
    },
    {
     "name": "stderr",
     "output_type": "stream",
     "text": [
      "100%|██████████| 1/1 [00:44<00:00, 44.42s/it]\n"
     ]
    },
    {
     "name": "stdout",
     "output_type": "stream",
     "text": [
      "lr = 0.0001\n"
     ]
    },
    {
     "name": "stderr",
     "output_type": "stream",
     "text": [
      "100%|██████████| 1/1 [00:42<00:00, 42.91s/it]\n"
     ]
    },
    {
     "name": "stdout",
     "output_type": "stream",
     "text": [
      "lr = 0.0005\n"
     ]
    },
    {
     "name": "stderr",
     "output_type": "stream",
     "text": [
      "100%|██████████| 1/1 [00:43<00:00, 43.12s/it]\n"
     ]
    },
    {
     "name": "stdout",
     "output_type": "stream",
     "text": [
      "lr = 0.001\n"
     ]
    },
    {
     "name": "stderr",
     "output_type": "stream",
     "text": [
      "100%|██████████| 1/1 [00:43<00:00, 43.00s/it]\n"
     ]
    },
    {
     "name": "stdout",
     "output_type": "stream",
     "text": [
      "lr = 0.005\n"
     ]
    },
    {
     "name": "stderr",
     "output_type": "stream",
     "text": [
      "100%|██████████| 1/1 [00:44<00:00, 44.61s/it]\n"
     ]
    },
    {
     "name": "stdout",
     "output_type": "stream",
     "text": [
      "lr = 0.0089\n"
     ]
    },
    {
     "name": "stderr",
     "output_type": "stream",
     "text": [
      "100%|██████████| 1/1 [00:43<00:00, 43.18s/it]\n"
     ]
    },
    {
     "name": "stdout",
     "output_type": "stream",
     "text": [
      "lr = 0.0001\n"
     ]
    },
    {
     "name": "stderr",
     "output_type": "stream",
     "text": [
      "100%|██████████| 1/1 [00:43<00:00, 43.94s/it]\n"
     ]
    },
    {
     "name": "stdout",
     "output_type": "stream",
     "text": [
      "lr = 0.0005\n"
     ]
    },
    {
     "name": "stderr",
     "output_type": "stream",
     "text": [
      "100%|██████████| 1/1 [00:42<00:00, 42.89s/it]\n"
     ]
    },
    {
     "name": "stdout",
     "output_type": "stream",
     "text": [
      "lr = 0.001\n"
     ]
    },
    {
     "name": "stderr",
     "output_type": "stream",
     "text": [
      "100%|██████████| 1/1 [00:51<00:00, 51.65s/it]\n"
     ]
    },
    {
     "name": "stdout",
     "output_type": "stream",
     "text": [
      "lr = 0.005\n"
     ]
    },
    {
     "name": "stderr",
     "output_type": "stream",
     "text": [
      "100%|██████████| 1/1 [00:47<00:00, 47.58s/it]\n"
     ]
    },
    {
     "name": "stdout",
     "output_type": "stream",
     "text": [
      "lr = 0.0089\n"
     ]
    },
    {
     "name": "stderr",
     "output_type": "stream",
     "text": [
      "100%|██████████| 1/1 [00:41<00:00, 41.57s/it]\n"
     ]
    },
    {
     "name": "stdout",
     "output_type": "stream",
     "text": [
      "lr = 0.0001\n"
     ]
    },
    {
     "name": "stderr",
     "output_type": "stream",
     "text": [
      "100%|██████████| 1/1 [00:41<00:00, 41.42s/it]\n"
     ]
    },
    {
     "name": "stdout",
     "output_type": "stream",
     "text": [
      "lr = 0.0005\n"
     ]
    },
    {
     "name": "stderr",
     "output_type": "stream",
     "text": [
      "100%|██████████| 1/1 [00:41<00:00, 41.40s/it]\n"
     ]
    },
    {
     "name": "stdout",
     "output_type": "stream",
     "text": [
      "lr = 0.001\n"
     ]
    },
    {
     "name": "stderr",
     "output_type": "stream",
     "text": [
      "100%|██████████| 1/1 [00:40<00:00, 40.61s/it]\n"
     ]
    },
    {
     "name": "stdout",
     "output_type": "stream",
     "text": [
      "lr = 0.005\n"
     ]
    },
    {
     "name": "stderr",
     "output_type": "stream",
     "text": [
      "100%|██████████| 1/1 [00:40<00:00, 41.00s/it]\n"
     ]
    },
    {
     "name": "stdout",
     "output_type": "stream",
     "text": [
      "lr = 0.0089\n"
     ]
    },
    {
     "name": "stderr",
     "output_type": "stream",
     "text": [
      "100%|██████████| 1/1 [00:43<00:00, 43.81s/it]\n"
     ]
    },
    {
     "name": "stdout",
     "output_type": "stream",
     "text": [
      "lr = 0.0001\n"
     ]
    },
    {
     "name": "stderr",
     "output_type": "stream",
     "text": [
      "100%|██████████| 1/1 [00:44<00:00, 44.60s/it]\n"
     ]
    },
    {
     "name": "stdout",
     "output_type": "stream",
     "text": [
      "lr = 0.0005\n"
     ]
    },
    {
     "name": "stderr",
     "output_type": "stream",
     "text": [
      "100%|██████████| 1/1 [00:42<00:00, 42.44s/it]\n"
     ]
    },
    {
     "name": "stdout",
     "output_type": "stream",
     "text": [
      "lr = 0.001\n"
     ]
    },
    {
     "name": "stderr",
     "output_type": "stream",
     "text": [
      "100%|██████████| 1/1 [00:41<00:00, 41.45s/it]\n"
     ]
    },
    {
     "name": "stdout",
     "output_type": "stream",
     "text": [
      "lr = 0.005\n"
     ]
    },
    {
     "name": "stderr",
     "output_type": "stream",
     "text": [
      "100%|██████████| 1/1 [00:41<00:00, 41.48s/it]\n"
     ]
    },
    {
     "name": "stdout",
     "output_type": "stream",
     "text": [
      "lr = 0.0089\n"
     ]
    },
    {
     "name": "stderr",
     "output_type": "stream",
     "text": [
      "100%|██████████| 1/1 [00:41<00:00, 41.26s/it]\n"
     ]
    },
    {
     "data": {
      "text/plain": [
       "(<Functional_Data_functions.HyperParameters at 0x1e85adbaf40>,\n",
       " tensor([24.0000, 26.4000, 26.4000, 26.4000, 26.4000, 26.4000, 26.4000, 28.0000,\n",
       "         28.0000, 28.8000, 30.4000, 30.4000, 30.4000, 30.4000, 30.4000, 30.4000,\n",
       "         30.4000, 32.0000, 32.8000, 32.8000, 33.6000, 35.2000, 36.0000, 36.8000,\n",
       "         36.8000, 37.6000, 37.6000, 39.2000, 40.0000, 41.6000]))"
      ]
     },
     "metadata": {},
     "output_type": "display_data"
    }
   ],
   "source": [
    "Hyperparameter_Search(model_class=\"LSTM_class\",hyperparams=param_lstm,grids=grids,x=X1,y=Y1,supra_epochs=1,parameters=parametres_a_tester)"
   ]
  },
  {
   "cell_type": "code",
   "execution_count": null,
   "metadata": {},
   "outputs": [
    {
     "ename": "PermissionError",
     "evalue": "[Errno 13] Permission denied: 'C:/Users/Utilisateur/Pictures/Images et animation/hyperparameters'",
     "output_type": "error",
     "traceback": [
      "\u001b[1;31m---------------------------------------------------------------------------\u001b[0m\n",
      "\u001b[1;31mPermissionError\u001b[0m                           Traceback (most recent call last)\n",
      "\u001b[1;32m~\\AppData\\Local\\Temp\\ipykernel_20036\\4281515374.py\u001b[0m in \u001b[0;36m<module>\u001b[1;34m\u001b[0m\n",
      "\u001b[0;32m      8\u001b[0m \u001b[1;33m\u001b[0m\u001b[0m\n",
      "\u001b[0;32m      9\u001b[0m \u001b[1;31m# Open a file in binary write mode\u001b[0m\u001b[1;33m\u001b[0m\u001b[1;33m\u001b[0m\u001b[0m\n",
      "\u001b[1;32m---> 10\u001b[1;33m \u001b[1;32mwith\u001b[0m \u001b[0mopen\u001b[0m\u001b[1;33m(\u001b[0m\u001b[1;34m\"C:/Users/Utilisateur/Pictures/Images et animation/hyperparameters\"\u001b[0m\u001b[1;33m,\u001b[0m \u001b[1;34m'wb'\u001b[0m\u001b[1;33m)\u001b[0m \u001b[1;32mas\u001b[0m \u001b[0mfile\u001b[0m\u001b[1;33m:\u001b[0m\u001b[1;33m\u001b[0m\u001b[1;33m\u001b[0m\u001b[0m\n",
      "\u001b[0m\u001b[0;32m     11\u001b[0m     \u001b[1;31m# Use pickle.dump() to save the object\u001b[0m\u001b[1;33m\u001b[0m\u001b[1;33m\u001b[0m\u001b[0m\n",
      "\u001b[0;32m     12\u001b[0m     \u001b[0mpickle\u001b[0m\u001b[1;33m.\u001b[0m\u001b[0mdump\u001b[0m\u001b[1;33m(\u001b[0m\u001b[0mparam_lstm\u001b[0m\u001b[1;33m,\u001b[0m \u001b[0mfile\u001b[0m\u001b[1;33m)\u001b[0m\u001b[1;33m\u001b[0m\u001b[1;33m\u001b[0m\u001b[0m\n",
      "\n",
      "\u001b[1;31mPermissionError\u001b[0m: [Errno 13] Permission denied: 'C:/Users/Utilisateur/Pictures/Images et animation/hyperparameters'"
     ]
    }
   ],
   "source": [
    "import pickle\n",
    "\n",
    "# Assuming you have an object of the Hyperparameters class\n",
    "\n",
    "\n",
    "# Specify the file path where you want to save the object\n",
    "file_path = \"hyperparams.pkl\"\n",
    "\n",
    "# Open a file in binary write mode\n",
    "with open(\"C:/Users/Utilisateur/Pictures/Images et animation/hyperparameters\", 'wb') as file:\n",
    "    # Use pickle.dump() to save the object\n",
    "    pickle.dump(param_lstm, file)\n"
   ]
  },
  {
   "cell_type": "code",
   "execution_count": null,
   "metadata": {},
   "outputs": [
    {
     "data": {
      "text/plain": [
       "Sigmoid()"
      ]
     },
     "metadata": {},
     "output_type": "display_data"
    }
   ],
   "source": [
    "param_lstm.activation"
   ]
  },
  {
   "cell_type": "code",
   "execution_count": null,
   "metadata": {},
   "outputs": [
    {
     "name": "stdout",
     "output_type": "stream",
     "text": [
      "lr = 0.01\n",
      "0 0.01 torch norm= tensor(299.6596)\n",
      "lr = 0.006999999999999999\n",
      "lr = 0.003999999999999999\n",
      "lr = 0.001\n"
     ]
    }
   ],
   "source": [
    "x=X1\n",
    "y=Y1\n",
    "supra_epochs=1\n",
    "model_class='lstm'\n",
    "hyperparams=param_lstm\n",
    "parameter=param_grid_searcher\n",
    "Final_acc = torch.tensor([0])\n",
    "norm=torch.zeros(len(grid))\n",
    "Optimum_parameter = grid[0]\n",
    "if len(unique(y.cpu()))<y.shape[0]//2:\n",
    "    output_size=len(unique(y.cpu()))\n",
    "    hyperparams.loss=nn.CrossEntropyLoss()\n",
    "else:\n",
    "    output_size=y.shape[1]\n",
    "    hyperparams.loss=nn.MSELoss()\n",
    "for i,value in enumerate(grid):\n",
    "    setattr(hyperparams, parameter, value)\n",
    "    print(parameter,\"=\",value)\n",
    "    # Modifier la valeur de l'attribut de la classe HyperParameters\n",
    "    if torch.norm(monte_carlo_test_acc)>torch.norm(Final_acc.float()):\n",
    "        Final_acc=monte_carlo_test_acc\n",
    "        print(i,hyperparams.parameter,'torch norm=', torch.norm(monte_carlo_test_acc))\n",
    "        \n",
    "        hyperparams.parameter=value\n",
    "        "
   ]
  },
  {
   "cell_type": "code",
   "execution_count": null,
   "metadata": {},
   "outputs": [
    {
     "name": "stdout",
     "output_type": "stream",
     "text": [
      "lr = 0.01\n"
     ]
    },
    {
     "name": "stderr",
     "output_type": "stream",
     "text": [
      "  0%|          | 0/1 [00:19<?, ?it/s]\n"
     ]
    },
    {
     "ename": "KeyboardInterrupt",
     "evalue": "",
     "output_type": "error",
     "traceback": [
      "\u001b[1;31m---------------------------------------------------------------------------\u001b[0m\n",
      "\u001b[1;31mKeyboardInterrupt\u001b[0m                         Traceback (most recent call last)\n",
      "\u001b[1;32m~\\AppData\\Local\\Temp\\ipykernel_18204\\1614788189.py\u001b[0m in \u001b[0;36m<module>\u001b[1;34m\u001b[0m\n",
      "\u001b[0;32m      7\u001b[0m     \u001b[0mprint\u001b[0m\u001b[1;33m(\u001b[0m\u001b[0mparameter\u001b[0m\u001b[1;33m,\u001b[0m\u001b[1;34m\"=\"\u001b[0m\u001b[1;33m,\u001b[0m\u001b[0mvalue\u001b[0m\u001b[1;33m)\u001b[0m\u001b[1;33m\u001b[0m\u001b[1;33m\u001b[0m\u001b[0m\n",
      "\u001b[0;32m      8\u001b[0m     \u001b[1;31m# Utiliser l'instance de HyperParameters pour effectuer les tests\u001b[0m\u001b[1;33m\u001b[0m\u001b[1;33m\u001b[0m\u001b[0m\n",
      "\u001b[1;32m----> 9\u001b[1;33m     \u001b[0mmonte_carlo_test_acc\u001b[0m\u001b[1;33m,\u001b[0m\u001b[0mmonte_carlo_train_acc\u001b[0m\u001b[1;33m,\u001b[0m\u001b[0mmean_acc_train\u001b[0m\u001b[1;33m,\u001b[0m\u001b[0mvar_acc_train\u001b[0m\u001b[1;33m,\u001b[0m\u001b[0mIC_acc_train\u001b[0m\u001b[1;33m,\u001b[0m \u001b[0mmean_acc_test\u001b[0m\u001b[1;33m,\u001b[0m\u001b[0mvar_acc_test\u001b[0m\u001b[1;33m,\u001b[0m\u001b[0mIC_acc_test\u001b[0m \u001b[1;33m=\u001b[0m \u001b[0mHyperparameter_Test\u001b[0m\u001b[1;33m(\u001b[0m\u001b[0msupra_epochs\u001b[0m\u001b[1;33m=\u001b[0m\u001b[0msupra_epochs\u001b[0m\u001b[1;33m,\u001b[0m\u001b[0mhyperparameters\u001b[0m\u001b[1;33m=\u001b[0m\u001b[0mhyperparams\u001b[0m\u001b[1;33m,\u001b[0m\u001b[0mmodel_class\u001b[0m\u001b[1;33m=\u001b[0m\u001b[0mmodel_class\u001b[0m\u001b[1;33m,\u001b[0m\u001b[0mx\u001b[0m\u001b[1;33m=\u001b[0m\u001b[0mx\u001b[0m\u001b[1;33m,\u001b[0m\u001b[0my\u001b[0m\u001b[1;33m=\u001b[0m\u001b[0my\u001b[0m\u001b[1;33m,\u001b[0m\u001b[0moutput_size\u001b[0m\u001b[1;33m=\u001b[0m\u001b[0moutput_size\u001b[0m\u001b[1;33m)\u001b[0m\u001b[1;33m\u001b[0m\u001b[1;33m\u001b[0m\u001b[0m\n",
      "\u001b[0m\u001b[0;32m     10\u001b[0m \u001b[1;33m\u001b[0m\u001b[0m\n",
      "\u001b[0;32m     11\u001b[0m     \u001b[1;32mif\u001b[0m \u001b[0mtorch\u001b[0m\u001b[1;33m.\u001b[0m\u001b[0mnorm\u001b[0m\u001b[1;33m(\u001b[0m\u001b[0mmonte_carlo_test_acc\u001b[0m\u001b[1;33m)\u001b[0m\u001b[1;33m>\u001b[0m\u001b[0mFinal_acc\u001b[0m\u001b[1;33m:\u001b[0m\u001b[1;33m\u001b[0m\u001b[1;33m\u001b[0m\u001b[0m\n",
      "\n",
      "\u001b[1;32mc:\\Users\\Utilisateur\\Documents\\Master_SSD\\STAGE_RECHERCHE\\FDA_python\\Smooth_stride tests\\Functional_Data_functions.py\u001b[0m in \u001b[0;36mHyperparameter_Test\u001b[1;34m(x, y, supra_epochs, alpha, model_class, hyperparameters, output_size)\u001b[0m\n",
      "\u001b[0;32m    835\u001b[0m \u001b[1;33m\u001b[0m\u001b[0m\n",
      "\u001b[0;32m    836\u001b[0m \u001b[1;33m\u001b[0m\u001b[0m\n",
      "\u001b[1;32m--> 837\u001b[1;33m         \u001b[0mmonte_carlo_train\u001b[0m\u001b[1;33m,\u001b[0m\u001b[0mmonte_carlo_test\u001b[0m\u001b[1;33m=\u001b[0m\u001b[0mtrain_fn\u001b[0m\u001b[1;33m(\u001b[0m\u001b[0mn_epochs\u001b[0m\u001b[1;33m=\u001b[0m\u001b[0mhyperparameters\u001b[0m\u001b[1;33m.\u001b[0m\u001b[0mn_epochs\u001b[0m\u001b[1;33m)\u001b[0m\u001b[1;33m\u001b[0m\u001b[1;33m\u001b[0m\u001b[0m\n",
      "\u001b[0m\u001b[0;32m    838\u001b[0m         \u001b[0mmonte_carlo_test_acc\u001b[0m\u001b[1;33m=\u001b[0m\u001b[0mtorch\u001b[0m\u001b[1;33m.\u001b[0m\u001b[0mcat\u001b[0m\u001b[1;33m(\u001b[0m\u001b[1;33m[\u001b[0m\u001b[0mmonte_carlo_test_acc\u001b[0m\u001b[1;33m,\u001b[0m\u001b[0mmonte_carlo_test\u001b[0m\u001b[1;33m.\u001b[0m\u001b[0munsqueeze\u001b[0m\u001b[1;33m(\u001b[0m\u001b[1;36m1\u001b[0m\u001b[1;33m)\u001b[0m\u001b[1;33m]\u001b[0m\u001b[1;33m,\u001b[0m\u001b[0mdim\u001b[0m\u001b[1;33m=\u001b[0m\u001b[1;36m1\u001b[0m\u001b[1;33m)\u001b[0m\u001b[1;33m\u001b[0m\u001b[1;33m\u001b[0m\u001b[0m\n",
      "\u001b[0;32m    839\u001b[0m         \u001b[0mmonte_carlo_train_acc\u001b[0m\u001b[1;33m=\u001b[0m\u001b[0mtorch\u001b[0m\u001b[1;33m.\u001b[0m\u001b[0mcat\u001b[0m\u001b[1;33m(\u001b[0m\u001b[1;33m[\u001b[0m\u001b[0mmonte_carlo_train_acc\u001b[0m\u001b[1;33m,\u001b[0m\u001b[0mmonte_carlo_train\u001b[0m\u001b[1;33m.\u001b[0m\u001b[0munsqueeze\u001b[0m\u001b[1;33m(\u001b[0m\u001b[1;36m1\u001b[0m\u001b[1;33m)\u001b[0m\u001b[1;33m]\u001b[0m\u001b[1;33m,\u001b[0m\u001b[0mdim\u001b[0m\u001b[1;33m=\u001b[0m\u001b[1;36m1\u001b[0m\u001b[1;33m)\u001b[0m\u001b[1;33m\u001b[0m\u001b[1;33m\u001b[0m\u001b[0m\n",
      "\n",
      "\u001b[1;32mc:\\Users\\Utilisateur\\Documents\\Master_SSD\\STAGE_RECHERCHE\\FDA_python\\Smooth_stride tests\\Functional_Data_functions.py\u001b[0m in \u001b[0;36m<lambda>\u001b[1;34m(n_epochs)\u001b[0m\n",
      "\u001b[0;32m    809\u001b[0m         \u001b[1;32mreturn\u001b[0m \u001b[0mtraining_acc\u001b[0m\u001b[1;33m.\u001b[0m\u001b[0mdetach\u001b[0m\u001b[1;33m(\u001b[0m\u001b[1;33m)\u001b[0m\u001b[1;33m.\u001b[0m\u001b[0mcpu\u001b[0m\u001b[1;33m(\u001b[0m\u001b[1;33m)\u001b[0m\u001b[1;33m,\u001b[0m\u001b[0mtesting_acc\u001b[0m\u001b[1;33m.\u001b[0m\u001b[0mdetach\u001b[0m\u001b[1;33m(\u001b[0m\u001b[1;33m)\u001b[0m\u001b[1;33m.\u001b[0m\u001b[0mcpu\u001b[0m\u001b[1;33m(\u001b[0m\u001b[1;33m)\u001b[0m\u001b[1;33m\u001b[0m\u001b[1;33m\u001b[0m\u001b[0m\n",
      "\u001b[0;32m    810\u001b[0m \u001b[1;33m\u001b[0m\u001b[0m\n",
      "\u001b[1;32m--> 811\u001b[1;33m     \u001b[1;32mreturn\u001b[0m \u001b[1;32mlambda\u001b[0m \u001b[0mn_epochs\u001b[0m\u001b[1;33m:\u001b[0m \u001b[0mtrain\u001b[0m\u001b[1;33m(\u001b[0m\u001b[0mn_epochs\u001b[0m\u001b[1;33m,\u001b[0m \u001b[0mmodule\u001b[0m\u001b[1;33m,\u001b[0m \u001b[0moptimizer\u001b[0m\u001b[1;33m,\u001b[0m \u001b[0mloss\u001b[0m\u001b[1;33m,\u001b[0m \u001b[0mbatch_size\u001b[0m\u001b[1;33m)\u001b[0m\u001b[1;33m\u001b[0m\u001b[1;33m\u001b[0m\u001b[0m\n",
      "\u001b[0m\u001b[0;32m    812\u001b[0m \u001b[1;33m\u001b[0m\u001b[0m\n",
      "\u001b[0;32m    813\u001b[0m \u001b[1;33m\u001b[0m\u001b[0m\n",
      "\n",
      "\u001b[1;32mc:\\Users\\Utilisateur\\Documents\\Master_SSD\\STAGE_RECHERCHE\\FDA_python\\Smooth_stride tests\\Functional_Data_functions.py\u001b[0m in \u001b[0;36mtrain\u001b[1;34m(n_epochs, module, optimizer, loss, batch_size)\u001b[0m\n",
      "\u001b[0;32m    792\u001b[0m                 \u001b[0mbatch_index\u001b[0m \u001b[1;33m+=\u001b[0m \u001b[0mbatch_size\u001b[0m  \u001b[1;31m# Passer au prochain batch\u001b[0m\u001b[1;33m\u001b[0m\u001b[1;33m\u001b[0m\u001b[0m\n",
      "\u001b[0;32m    793\u001b[0m                 \u001b[0mgc\u001b[0m\u001b[1;33m.\u001b[0m\u001b[0mcollect\u001b[0m\u001b[1;33m(\u001b[0m\u001b[1;33m)\u001b[0m\u001b[1;33m\u001b[0m\u001b[1;33m\u001b[0m\u001b[0m\n",
      "\u001b[1;32m--> 794\u001b[1;33m                 \u001b[0mtorch\u001b[0m\u001b[1;33m.\u001b[0m\u001b[0mcuda\u001b[0m\u001b[1;33m.\u001b[0m\u001b[0mempty_cache\u001b[0m\u001b[1;33m(\u001b[0m\u001b[1;33m)\u001b[0m\u001b[1;33m\u001b[0m\u001b[1;33m\u001b[0m\u001b[0m\n",
      "\u001b[0m\u001b[0;32m    795\u001b[0m             \u001b[1;32mif\u001b[0m \u001b[0mlen\u001b[0m\u001b[1;33m(\u001b[0m\u001b[0munique\u001b[0m\u001b[1;33m(\u001b[0m\u001b[0my_train\u001b[0m\u001b[1;33m.\u001b[0m\u001b[0mcpu\u001b[0m\u001b[1;33m(\u001b[0m\u001b[1;33m)\u001b[0m\u001b[1;33m)\u001b[0m\u001b[1;33m)\u001b[0m\u001b[1;33m<\u001b[0m\u001b[0my_train\u001b[0m\u001b[1;33m.\u001b[0m\u001b[0mshape\u001b[0m\u001b[1;33m[\u001b[0m\u001b[1;36m0\u001b[0m\u001b[1;33m]\u001b[0m\u001b[1;33m//\u001b[0m\u001b[1;36m2\u001b[0m\u001b[1;33m:\u001b[0m\u001b[1;33m\u001b[0m\u001b[1;33m\u001b[0m\u001b[0m\n",
      "\u001b[0;32m    796\u001b[0m                 \u001b[0maccuracy_training\u001b[0m\u001b[1;33m=\u001b[0m\u001b[1;33m(\u001b[0m\u001b[1;33m(\u001b[0m\u001b[0mtorch\u001b[0m\u001b[1;33m.\u001b[0m\u001b[0msum\u001b[0m\u001b[1;33m(\u001b[0m\u001b[0mtorch\u001b[0m\u001b[1;33m.\u001b[0m\u001b[0margmax\u001b[0m\u001b[1;33m(\u001b[0m\u001b[0mmodule\u001b[0m\u001b[1;33m(\u001b[0m\u001b[0mx_train\u001b[0m\u001b[1;33m)\u001b[0m\u001b[1;33m,\u001b[0m\u001b[0mdim\u001b[0m\u001b[1;33m=\u001b[0m\u001b[1;36m1\u001b[0m\u001b[1;33m)\u001b[0m\u001b[1;33m==\u001b[0m\u001b[0my_train\u001b[0m\u001b[1;33m)\u001b[0m\u001b[1;33m/\u001b[0m\u001b[0mx_train\u001b[0m\u001b[1;33m.\u001b[0m\u001b[0mshape\u001b[0m\u001b[1;33m[\u001b[0m\u001b[1;36m0\u001b[0m\u001b[1;33m]\u001b[0m\u001b[1;33m)\u001b[0m\u001b[1;33m*\u001b[0m\u001b[1;36m100\u001b[0m\u001b[1;33m)\u001b[0m\u001b[1;33m.\u001b[0m\u001b[0mcpu\u001b[0m\u001b[1;33m(\u001b[0m\u001b[1;33m)\u001b[0m\u001b[1;33m.\u001b[0m\u001b[0munsqueeze\u001b[0m\u001b[1;33m(\u001b[0m\u001b[1;36m0\u001b[0m\u001b[1;33m)\u001b[0m\u001b[1;33m\u001b[0m\u001b[1;33m\u001b[0m\u001b[0m\n",
      "\n",
      "\u001b[1;31mKeyboardInterrupt\u001b[0m: "
     ]
    }
   ],
   "source": [
    "\n",
    "\n",
    "# Obtenir l'attribut correspondant au paramètre spécifié\n",
    "attribute = getattr(hyperparams, parameter)\n",
    "\n",
    "for i,value in enumerate(grid):\n",
    "    # Modifier la valeur de l'attribut de la classe HyperParameters\n",
    "    setattr(hyperparams, parameter, value)\n",
    "    print(parameter,\"=\",value)\n",
    "    # Utiliser l'instance de HyperParameters pour effectuer les tests\n",
    "    monte_carlo_test_acc,monte_carlo_train_acc,mean_acc_train,var_acc_train,IC_acc_train, mean_acc_test,var_acc_test,IC_acc_test = Hyperparameter_Test(supra_epochs=supra_epochs,hyperparameters=hyperparams,model_class=model_class,x=x,y=y,output_size=output_size)\n",
    "    \n",
    "    if torch.norm(monte_carlo_test_acc)>Final_acc:\n",
    "        Final_acc=mean_acc_test\n",
    "        hyperparams.parameter=value"
   ]
  },
  {
   "cell_type": "code",
   "execution_count": null,
   "metadata": {},
   "outputs": [
    {
     "data": {
      "text/plain": [
       "0.001"
      ]
     },
     "metadata": {},
     "output_type": "display_data"
    }
   ],
   "source": [
    "param_lstm.lr"
   ]
  },
  {
   "cell_type": "code",
   "execution_count": null,
   "metadata": {},
   "outputs": [],
   "source": [
    "testmodel=Compile_class(x_train=X5,hyperparams=param1,output_size=3)\n",
    "\n",
    "\n",
    "X,Y=X5,Y5\n",
    "x_train,x_test,y_train,y_test=sklearn.model_selection.train_test_split(X,Y,shuffle=True)    \n",
    "# accuracy_training=((torch.sum(torch.argmax(testmodel(x_train),dim=1)==y_train)/x_train.shape[0])*100).cpu().unsqueeze(0)\n"
   ]
  },
  {
   "cell_type": "code",
   "execution_count": null,
   "metadata": {},
   "outputs": [
    {
     "data": {
      "text/plain": [
       "False"
      ]
     },
     "metadata": {},
     "output_type": "display_data"
    }
   ],
   "source": [
    "Y=Y5\n",
    "output_size=Y5.shape[1]\n",
    "len(unique(Y.cpu()))<Y.shape[0]//2\n"
   ]
  },
  {
   "cell_type": "code",
   "execution_count": null,
   "metadata": {},
   "outputs": [
    {
     "name": "stdout",
     "output_type": "stream",
     "text": [
      "LSTM_class(\n",
      "  (lstm): LSTM(365, 32, num_layers=5, batch_first=True, bidirectional=True)\n",
      "  (fc_block): Sequential(\n",
      "    (0): Flatten(start_dim=1, end_dim=-1)\n",
      "    (1): Linear(in_features=128, out_features=512, bias=True)\n",
      "    (2): BatchNorm1d(512, eps=1e-05, momentum=0.1, affine=True, track_running_stats=True)\n",
      "    (3): LeakyReLU(negative_slope=0.18)\n",
      "    (4): Identity()\n",
      "    (5): Linear(in_features=512, out_features=256, bias=True)\n",
      "    (6): BatchNorm1d(256, eps=1e-05, momentum=0.1, affine=True, track_running_stats=True)\n",
      "    (7): LeakyReLU(negative_slope=0.18)\n",
      "    (8): Linear(in_features=256, out_features=4, bias=True)\n",
      "  )\n",
      ")\n",
      "2 2 32 torch.Size([35, 2, 64])\n"
     ]
    }
   ],
   "source": [
    "lstm=Compile_class(hyperparams=param3,x_train=X4,output_size=4,model_class=\"lstm\")\n",
    "x=X4\n",
    "hyperparams=param3\n",
    "print(lstm)\n",
    "data_matrix=torch.tensor(x.data_matrix).float().cuda()\n",
    "input=data_matrix.reshape(data_matrix.shape[0],data_matrix.shape[2],data_matrix.shape[1])\n",
    "lstm_out=lstm.lstm(input)[0]\n",
    "print(hyperparams.n_channel,hyperparams.bidirectional+1,hyperparams.n_conv_in,lstm_out.shape)\n",
    "nn.Flatten()(lstm_out).cuda()\n",
    "test=nn.Linear(hyperparams.n_conv_in*hyperparams.n_channel*(hyperparams.bidirectional+1),hyperparams.n_conv_in2).cuda()\n",
    "# lstm.fc_block(lstm_out).shape\n",
    "train_lstm=Compile_train(module=lstm, hyperparams=hyperparams, X=X4,Y=Y4,data_amount=10000)\n",
    "\n",
    "\n"
   ]
  },
  {
   "cell_type": "code",
   "execution_count": null,
   "metadata": {},
   "outputs": [
    {
     "data": {
      "text/plain": [
       "(tensor([ 0.0000, 19.2308, 19.2308, 19.2308, 19.2308, 19.2308, 19.2308, 19.2308,\n",
       "         19.2308, 19.2308, 19.2308]),\n",
       " tensor([ 0.0000, 44.4444, 44.4444, 44.4444, 44.4444, 44.4444, 44.4444, 44.4444,\n",
       "         44.4444, 44.4444, 44.4444]))"
      ]
     },
     "metadata": {},
     "output_type": "display_data"
    }
   ],
   "source": [
    "train_lstm(10)"
   ]
  },
  {
   "cell_type": "code",
   "execution_count": null,
   "metadata": {},
   "outputs": [
    {
     "ename": "NameError",
     "evalue": "name 'Smoothing_method' is not defined",
     "output_type": "error",
     "traceback": [
      "\u001b[1;31m---------------------------------------------------------------------------\u001b[0m\n",
      "\n",
      "\u001b[1;31mNameError\u001b[0m                                 Traceback (most recent call last)\n",
      "\n",
      "\u001b[1;32m~\\AppData\\Local\\Temp\\ipykernel_3848\\1300635940.py\u001b[0m in \u001b[0;36m<module>\u001b[1;34m\u001b[0m\n",
      "\n",
      "\u001b[0;32m      1\u001b[0m \u001b[1;31m##Création des méthodes de smoothing pour chaque dataset:\u001b[0m\u001b[1;33m\u001b[0m\u001b[1;33m\u001b[0m\u001b[0m\n",
      "\n",
      "\u001b[0;32m      2\u001b[0m \u001b[1;31m##Phoneme\u001b[0m\u001b[1;33m\u001b[0m\u001b[1;33m\u001b[0m\u001b[0m\n",
      "\n",
      "\u001b[1;32m----> 3\u001b[1;33m \u001b[0mSmoother1\u001b[0m\u001b[1;33m=\u001b[0m\u001b[0mSmoothing_method\u001b[0m\u001b[1;33m(\u001b[0m\u001b[0mn_knots\u001b[0m\u001b[1;33m=\u001b[0m\u001b[1;36m8\u001b[0m\u001b[1;33m,\u001b[0m\u001b[0morder\u001b[0m\u001b[1;33m=\u001b[0m\u001b[1;36m4\u001b[0m\u001b[1;33m)\u001b[0m\u001b[1;33m\u001b[0m\u001b[1;33m\u001b[0m\u001b[0m\n",
      "\n",
      "\u001b[0m\u001b[0;32m      4\u001b[0m \u001b[1;33m\u001b[0m\u001b[0m\n",
      "\n",
      "\u001b[0;32m      5\u001b[0m \u001b[1;31m##Choix du nombre d'epochs\u001b[0m\u001b[1;33m\u001b[0m\u001b[1;33m\u001b[0m\u001b[0m\n",
      "\n",
      "\n",
      "\n",
      "\u001b[1;31mNameError\u001b[0m: name 'Smoothing_method' is not defined"
     ]
    }
   ],
   "source": [
    "##Création des méthodes de smoothing pour chaque dataset:\n",
    "##Phoneme\n",
    "Smoother1=Smoothing_method(n_knots=8,order=4)\n",
    "\n",
    "##Choix du nombre d'epochs \n",
    "n_epoch=50\n",
    "opt='Adam'\n",
    "##Création des hyperparamètres:\n",
    "\n",
    "param1=HyperParameters(n_epochs=n_epoch, Smoothing_method=Smoother1, granulation=5000,\n",
    "                 n_conv_in=32, n_conv_in2=64, n_conv_in3=128,n_conv_out=2, n_Flat_out=256,\n",
    "                 stride_1=200, stride_2=1, stride_3=1,\n",
    "                 stride_pool_1=1, stride_pool_2=2, stride_pool_3=2,\n",
    "                 kernel_size_1=12,  kernel_size_2=3, kernel_size_3=4,\n",
    "                 kernel_size_pool_1=3, kernel_size_pool_2=2, kernel_size_pool_3=3,\n",
    "                 dilation_1=150, dilation_2=1, dilation_3=1,\n",
    "                 dilation_pool_1=1, dilation_pool_2=1, dilation_pool_3=1,\n",
    "                 padding_1=200, padding_2=2, padding_3=2,\n",
    "                 padding_pool_1=1, padding_pool_2=1, padding_pool_3=1,\n",
    "                 opt=opt, lr=0.0089, loss=nn.CrossEntropyLoss(),activation=nn.Identity(),negative_slope=0.17,derivative=[0])\n",
    "\n",
    "param2=HyperParameters(n_epochs=25, Smoothing_method=Smoother1, granulation=5500,\n",
    "                 n_conv_in=32, n_conv_in2=128, n_conv_in3=256, n_Flat_out=256,\n",
    "                 stride_1=95, stride_2=1, stride_3=1,\n",
    "                 stride_pool_1=3, stride_pool_2=1, stride_pool_3=1,\n",
    "                 kernel_size_1=12,  kernel_size_2=5, kernel_size_3=4,\n",
    "                 kernel_size_pool_1=3, kernel_size_pool_2=2, kernel_size_pool_3=2,\n",
    "                 dilation_1=180, dilation_2=1, dilation_3=1,\n",
    "                 dilation_pool_1=1, dilation_pool_2=1, dilation_pool_3=1,\n",
    "                 padding_1=0, padding_2=2, padding_3=2,\n",
    "                 padding_pool_1=0, padding_pool_2=0, padding_pool_3=0,\n",
    "                 opt=opt, lr=0.0001, loss=nn.CrossEntropyLoss(),\n",
    "                 activation=nn.Identity(),\n",
    "                 negative_slope=0.18,derivative=[0,1])\n",
    "param3=HyperParameters(n_epochs=75, Smoothing_method=Smoother1, granulation=1000,\n",
    "                 n_conv_in=128, n_conv_in2=128, n_conv_in3=128, n_Flat_out=64,\n",
    "                 stride_1=95, stride_2=1, stride_3=1,\n",
    "                 stride_pool_1=3, stride_pool_2=2, stride_pool_3=2,\n",
    "                 kernel_size_1=5,  kernel_size_2=3, kernel_size_3=4,\n",
    "                 kernel_size_pool_1=3, kernel_size_pool_2=2, kernel_size_pool_3=3,\n",
    "                 dilation_1=250, dilation_2=1, dilation_3=1,\n",
    "                 dilation_pool_1=1, dilation_pool_2=1, dilation_pool_3=1,\n",
    "                 padding_1=0, padding_2=2, padding_3=2,\n",
    "                 padding_pool_1=1, padding_pool_2=1, padding_pool_3=1,\n",
    "                 opt=opt, lr=0.0001, loss=nn.CrossEntropyLoss(),\n",
    "                 activation=nn.Identity(),\n",
    "                 negative_slope=0.18,derivative=[0,1,2])\n",
    "params_list=[param2]\n",
    "params_special=[param2,param3,param3,param3]\n",
    "print(conv_total_out(param2))\n",
    "model_list=[\"TSCNN\",\"LSTM\",\"MLP\",\"GRU\"]\n",
    "colors=[\"darkred\",\"magenta\",\"darkgreen\",\"darkblue\"]\n",
    "label=[\"param1 \",\" param2\",\"param3\"]\n",
    "check=10\n",
    "# [X1.shape[0]//check,X2.shape[0]//check,X3.shape[0]//check,X4.shape[0]//check,\n",
    "[X1.shape[0]/check,X2.shape[0]/check,X3.shape[0]/check,X4.shape[0]/check,\n",
    "len(range(2,X1.shape[0]*3//4,X1.shape[0]//check)),len(range(2,X2.shape[0]*3//4,X2.shape[0]//check)),len(range(2,X3.shape[0]*3//4,X3.shape[0]//check)),len(range(2,X4.shape[0]*3//4,X4.shape[0]//check))]"
   ]
  },
  {
   "cell_type": "code",
   "execution_count": null,
   "metadata": {},
   "outputs": [
    {
     "ename": "NameError",
     "evalue": "name 'Compare_n_datas' is not defined",
     "output_type": "error",
     "traceback": [
      "\u001b[1;31m---------------------------------------------------------------------------\u001b[0m\n",
      "\u001b[1;31mNameError\u001b[0m                                 Traceback (most recent call last)\n",
      "\u001b[1;32m~\\AppData\\Local\\Temp\\ipykernel_21528\\719409338.py\u001b[0m in \u001b[0;36m<module>\u001b[1;34m\u001b[0m\n",
      "\u001b[0;32m      1\u001b[0m \u001b[1;31m##En fonction des données\u001b[0m\u001b[1;33m\u001b[0m\u001b[1;33m\u001b[0m\u001b[0m\n",
      "\u001b[1;32m----> 2\u001b[1;33m fig,monte_carlo_test_acc,monte_carlo_train_acc,mean_acc_train,mean_acc_test,var_acc_train,var_acc_test,IC_acc_train,IC_acc_test=Compare_n_datas(\n",
      "\u001b[0m\u001b[0;32m      3\u001b[0m \u001b[1;33m\u001b[0m\u001b[0m\n",
      "\u001b[0;32m      4\u001b[0m     \u001b[0mdatasets\u001b[0m\u001b[1;33m=\u001b[0m\u001b[0mData_list\u001b[0m\u001b[1;33m,\u001b[0m\u001b[1;33m\u001b[0m\u001b[1;33m\u001b[0m\u001b[0m\n",
      "\u001b[0;32m      5\u001b[0m     \u001b[0mmodels\u001b[0m\u001b[1;33m=\u001b[0m\u001b[0mmodel_list\u001b[0m\u001b[1;33m,\u001b[0m\u001b[1;33m\u001b[0m\u001b[1;33m\u001b[0m\u001b[0m\n",
      "\n",
      "\u001b[1;31mNameError\u001b[0m: name 'Compare_n_datas' is not defined"
     ]
    }
   ],
   "source": [
    "##En fonction des données \n",
    "fig,monte_carlo_test_acc,monte_carlo_train_acc,mean_acc_train,mean_acc_test,var_acc_train,var_acc_test,IC_acc_train,IC_acc_test=Compare_n_datas(\n",
    "\n",
    "    datasets=Data_list,\n",
    "    models=model_list,\n",
    "    params=params_list,\n",
    "    spec_param=params_special,\n",
    "    colors=colors,\n",
    "    alpha=0.95,\n",
    "    # label=label,\n",
    "    supra_epochs=20,\n",
    "\n",
    "    checkpoints_number=10,\n",
    ")"
   ]
  }
 ],
 "metadata": {
  "kernelspec": {
   "display_name": "base",
   "language": "python",
   "name": "python3"
  },
  "language_info": {
   "codemirror_mode": {
    "name": "ipython",
    "version": 3
   },
   "file_extension": ".py",
   "mimetype": "text/x-python",
   "name": "python",
   "nbconvert_exporter": "python",
   "pygments_lexer": "ipython3",
   "version": "3.9.13"
  },
  "orig_nbformat": 4
 },
 "nbformat": 4,
 "nbformat_minor": 2
}
