{
 "cells": [
  {
   "cell_type": "code",
   "execution_count": 2,
   "metadata": {},
   "outputs": [
    {
     "data": {
      "text/plain": [
       "<torch._C.Generator at 0x1e3b7e9b0b0>"
      ]
     },
     "execution_count": 2,
     "metadata": {},
     "output_type": "execute_result"
    }
   ],
   "source": [
    "# -*- coding: utf-8 -*-\n",
    "\"\"\"\n",
    "Created on Mon Aug 15 14:49:58 2022\n",
    "\n",
    "@author: Sidi Wu and Cédric Beaulac\n",
    "\n",
    "Functional autoencoder implementation\n",
    "\"\"\"\n",
    "\n",
    "# Import modules\n",
    "import torch\n",
    "import torch.nn.init as init\n",
    "import torch.nn.functional as F\n",
    "import torch.nn as nn\n",
    "import Hyper_parameter_search\n",
    "from Hyper_parameter_search import weights_init_normal\n",
    "from torch import optim\n",
    "from torch.autograd import Variable\n",
    "from torchvision import datasets, transforms\n",
    "from torchvision.utils import save_image\n",
    "import pandas as pd\n",
    "import numpy as np\n",
    "from numpy import *\n",
    "import seaborn as sns\n",
    "import matplotlib\n",
    "#matplotlib.use('TkAgg')\n",
    "from matplotlib import pyplot as plt\n",
    "# import skfda as fda\n",
    "# from skfda import representation as representation\n",
    "# from skfda.exploratory.visualization import FPCAPlot\n",
    "# # from skfda.exploratory.visualization import FPCAPlot\n",
    "# # from skfda.preprocessing.dim_reduction import FPCA\n",
    "# # from skfda.representation.basis import BSpline, Fourier, Monomial\n",
    "import scipy\n",
    "from scipy.interpolate import BSpline\n",
    "import os\n",
    "import ignite\n",
    "import sklearn\n",
    "from sklearn.utils import shuffle\n",
    "from sklearn.decomposition import PCA\n",
    "from sklearn.linear_model import LogisticRegression\n",
    "from sklearn.metrics import classification_report, confusion_matrix\n",
    "from sklearn.cluster import KMeans\n",
    "import random\n",
    "from random import seed\n",
    "from scipy import stats\n",
    "import statistics\n",
    "from statistics import stdev\n",
    "import skfda\n",
    "\n",
    "import skfda\n",
    "from skfda import FDataGrid as fd\n",
    "from skfda.representation.basis import BSpline as B\n",
    "torch.manual_seed(123)\n"
   ]
  },
  {
   "cell_type": "code",
   "execution_count": 3,
   "metadata": {},
   "outputs": [
    {
     "name": "stderr",
     "output_type": "stream",
     "text": [
      "c:\\Users\\Utilisateur\\anaconda3\\lib\\site-packages\\rdata\\conversion\\_conversion.py:321: UserWarning: Unknown encoding. Assumed ASCII.\n",
      "  warnings.warn(\"Unknown encoding. Assumed ASCII.\")\n",
      "c:\\Users\\Utilisateur\\anaconda3\\lib\\site-packages\\rdata\\conversion\\_conversion.py:321: UserWarning: Unknown encoding. Assumed ASCII.\n",
      "  warnings.warn(\"Unknown encoding. Assumed ASCII.\")\n"
     ]
    },
    {
     "data": {
      "text/plain": [
       "((250,),\n",
       " (250,),\n",
       " Index(['1', '2', '3', '4', '5'], dtype='object'),\n",
       " Index(['1', '2', '3', '4', '5'], dtype='object'))"
      ]
     },
     "execution_count": 3,
     "metadata": {},
     "output_type": "execute_result"
    }
   ],
   "source": [
    "Phoneme=skfda.datasets.fetch_cran(\"phoneme\",package_name=\"fda.usc\")\n",
    "phoneme=Phoneme['phoneme']\n",
    "\n",
    "x_train,x_test,y_train,y_test=phoneme['learn'],phoneme['test'],phoneme['classlearn'],phoneme['classtest']\n",
    "x_train.shape,x_test.shape,y_train.categories,y_test.categories\n",
    "##Phonèmes enregistrés à classer dans 5 catégories"
   ]
  },
  {
   "cell_type": "code",
   "execution_count": 4,
   "metadata": {},
   "outputs": [],
   "source": [
    "\n",
    "x_train_tensor=torch.tensor(x_train.data_matrix).reshape(250,1,150).cuda().float()\n",
    "x_test_tensor=torch.tensor(x_test.data_matrix).reshape(250,1,150).cuda().float()\n",
    "y_train_tensor=torch.tensor(y_train.codes).unsqueeze(1).unsqueeze(2).long().cuda()\n",
    "y_test_tensor=torch.tensor(y_test.codes).unsqueeze(1).unsqueeze(2).long().cuda()\n",
    "\n",
    "X=torch.cat([x_train_tensor,x_test_tensor])\n",
    "Y=torch.cat([y_train_tensor,y_test_tensor])\n"
   ]
  },
  {
   "cell_type": "code",
   "execution_count": 5,
   "metadata": {},
   "outputs": [],
   "source": [
    "basis=B(knots=linspace(1,150,6),order=4)\n",
    "n_basis=basis.n_basis\n"
   ]
  },
  {
   "cell_type": "code",
   "execution_count": 6,
   "metadata": {},
   "outputs": [],
   "source": [
    "output_size=5\n",
    "\n",
    "class Project_classifier(nn.Module):\n",
    "    def __init__(self,basis):\n",
    "        super(Project_classifier,self).__init__()\n",
    "        self.basis=basis\n",
    "        self.fc_block=nn.Sequential(\n",
    "            nn.Linear(self.basis.n_basis,64),\n",
    "            nn.LeakyReLU(negative_slope=0.17),\n",
    "            nn.BatchNorm1d(64),\n",
    "            nn.Linear(64,32),\n",
    "            nn.Tanh(),\n",
    "            nn.LeakyReLU(negative_slope=0.17),\n",
    "            nn.BatchNorm1d(32),\n",
    "            nn.Tanh(),\n",
    "            nn.Linear(32,16),\n",
    "            nn.LeakyReLU(negative_slope=0.17),\n",
    "            nn.Linear(16,output_size),\n",
    "            \n",
    "        )\n",
    "        \n",
    "    def Project(self, x, basis_fc):\n",
    "        # basis_fc: n_time X nbasis\n",
    "        # x: n_subject X n_time\n",
    "        # w = x.size(1)-1\n",
    "        # W = torch.tensor([1/(2*w)]+[1/w]*(w-1)+[1/(2*w)])\n",
    "        \n",
    "        f = torch.matmul(torch.tensor(x.data_matrix[:,:,0]).float().cuda(), torch.t(basis_fc))\n",
    "        return f\n",
    "    def forward(self,x):\n",
    "        basis_fc=self.basis(x.grid_points[0],derivative=0)[:,:,0]\n",
    "        basis_fc=torch.tensor(basis_fc).float().cuda()\n",
    "        proj_out=self.Project(x,basis_fc=basis_fc)\n",
    "        lin_out=self.fc_block(proj_out)\n",
    "        return lin_out.float().unsqueeze(2).unsqueeze(3)\n",
    "    "
   ]
  },
  {
   "cell_type": "code",
   "execution_count": 7,
   "metadata": {},
   "outputs": [
    {
     "name": "stderr",
     "output_type": "stream",
     "text": [
      "C:\\Users\\Utilisateur\\AppData\\Local\\Temp\\ipykernel_3556\\1916630021.py:2: DeprecationWarning: The method 'evaluate' is deprecated. Please use the normal calling notation on the basis object instead.\n",
      "  basis_fc=basis_fc=basis.evaluate(x_train.grid_points[0],derivative=0)[:,:,0]\n"
     ]
    }
   ],
   "source": [
    "classifier=Project_classifier(basis=basis).cuda().apply(weights_init_normal)\n",
    "basis_fc=basis_fc=basis(x_train.grid_points[0],derivative=0)[:,:,0]\n",
    "basis_fc=torch.tensor(basis_fc).float().cuda()"
   ]
  },
  {
   "cell_type": "code",
   "execution_count": 8,
   "metadata": {},
   "outputs": [],
   "source": [
    "lr=0.0001\n",
    "betas=[0.5,0.999]\n",
    "batch_size=36\n",
    "loss=nn.CrossEntropyLoss()\n",
    "optimizer = optim.Adam(classifier.parameters(), lr=lr, betas=betas)"
   ]
  },
  {
   "cell_type": "code",
   "execution_count": 9,
   "metadata": {},
   "outputs": [],
   "source": [
    "from tqdm import tqdm\n",
    "\n",
    "\n",
    "def train(n_epochs=50, optimizer=optimizer, loss=loss, batch_size=batch_size):\n",
    "    for epoch in tqdm(range(n_epochs)):\n",
    "        train_loss = torch.tensor(0).cuda().long()\n",
    "        \n",
    "        # Mélanger les données d'entraînement\n",
    "        indices = list(range(len(x_train)))\n",
    "        random.shuffle(indices)\n",
    "        \n",
    "        batch_index = 0  # Indice de batch\n",
    "        \n",
    "        for i in range(int(len(x_train) / batch_size)):\n",
    "            # Obtenir les indices des données mélangées\n",
    "            batch_indices = indices[batch_index:batch_index+batch_size]\n",
    "            \n",
    "            functions_train = x_train[batch_indices]\n",
    "            labels_train = y_train_tensor[batch_indices]\n",
    "            \n",
    "            optimizer.zero_grad()\n",
    "            output = classifier(functions_train)\n",
    "            loss_value = loss(input=output, target=labels_train)\n",
    "            \n",
    "            loss_value.backward()\n",
    "            optimizer.step()\n",
    "            train_loss += loss_value.long()\n",
    "            \n",
    "            batch_index += batch_size  # Passer au prochain batch\n",
    "            \n",
    "        return train_loss, loss_value"
   ]
  },
  {
   "cell_type": "code",
   "execution_count": 133,
   "metadata": {},
   "outputs": [
    {
     "data": {
      "text/plain": [
       "(8, 2000, 1)"
      ]
     },
     "execution_count": 133,
     "metadata": {},
     "output_type": "execute_result"
    }
   ],
   "source": [
    "eval_points=np.linspace(1,150,2000)\n",
    "basis(eval_points=eval_points).shape"
   ]
  },
  {
   "cell_type": "code",
   "execution_count": 126,
   "metadata": {},
   "outputs": [
    {
     "name": "stderr",
     "output_type": "stream",
     "text": [
      "  0%|          | 0/1 [00:00<?, ?it/s]C:\\Users\\Utilisateur\\AppData\\Local\\Temp\\ipykernel_3556\\2610319266.py:31: DeprecationWarning: The method 'evaluate' is deprecated. Please use the normal calling notation on the basis object instead.\n",
      "  basis_fc=self.basis.evaluate(x.grid_points[0],derivative=0)[:,:,0]\n",
      "  0%|          | 0/1 [00:00<?, ?it/s]"
     ]
    },
    {
     "name": "stdout",
     "output_type": "stream",
     "text": [
      "Précision moyenne = 94.40001 %\n"
     ]
    },
    {
     "name": "stderr",
     "output_type": "stream",
     "text": [
      "\n"
     ]
    }
   ],
   "source": [
    "train(n_epochs=1)\n",
    "accuracy=((torch.sum(torch.argmax(classifier(x_test),dim=1)==y_test_tensor)/x_test_tensor.shape[0])*100)\n",
    "print(\"Précision moyenne =\",((torch.mean(accuracy.float()))).detach().cpu().numpy(),\"%\")  "
   ]
  },
  {
   "cell_type": "code",
   "execution_count": 128,
   "metadata": {},
   "outputs": [
    {
     "data": {
      "text/plain": [
       "53"
      ]
     },
     "execution_count": 128,
     "metadata": {},
     "output_type": "execute_result"
    }
   ],
   "source": [
    "import gc\n",
    "torch.cuda.empty_cache()\n",
    "gc.collect()"
   ]
  }
 ],
 "metadata": {
  "kernelspec": {
   "display_name": "base",
   "language": "python",
   "name": "python3"
  },
  "language_info": {
   "codemirror_mode": {
    "name": "ipython",
    "version": 3
   },
   "file_extension": ".py",
   "mimetype": "text/x-python",
   "name": "python",
   "nbconvert_exporter": "python",
   "pygments_lexer": "ipython3",
   "version": "3.9.13"
  },
  "orig_nbformat": 4
 },
 "nbformat": 4,
 "nbformat_minor": 2
}
