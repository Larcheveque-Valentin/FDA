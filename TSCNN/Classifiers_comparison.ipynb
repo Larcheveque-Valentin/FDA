{
 "cells": [
  {
   "cell_type": "code",
   "execution_count": 1,
   "metadata": {},
   "outputs": [],
   "source": [
    "# Import modules\n",
    "import Functional_Data_functions\n",
    "from Functional_Data_functions import Hyperparameter_Test_n_data,LSTM_class,conv_total_out, Smoothing_method,weights_init_normal,HyperParameters,Hyperparameter_Search,Hyperparameter_Test,Hyper_parameter_GridSearch,TSCNN,Compile_train,Compare_epochs, from_torch_to_Datagrid, conv_block_out_lp,Multiple_Window_Maker\n",
    "from Functional_Data_functions import Compare_epochs,Compile_class,conv_total_out_no_pool,conv_total_out_without_pooling, conv_total_out_une_couche, Window_Maker, MultiBasis\n",
    "import inspect\n",
    "import scipy.stats\n",
    "from scipy.stats import ttest_ind\n",
    "import random\n",
    "import torch\n",
    "import torch.nn.init as init\n",
    "import torch.nn.functional as F\n",
    "import torch.nn as nn\n",
    "import pandas as pd\n",
    "import os\n",
    "from torch import optim\n",
    "from torch.autograd import Variable\n",
    "from torchvision import datasets, transforms\n",
    "from torchvision.utils import save_image\n",
    "from torch.nn.utils.rnn import pack_sequence\n",
    "import pandas as pd\n",
    "import numpy as np\n",
    "from numpy import *\n",
    "import seaborn as sns\n",
    "import matplotlib\n",
    "from scipy.stats import norm\n",
    "# matplotlib.use('TkAgg')\n",
    "from matplotlib import pyplot as plt\n",
    "import skfda as fda\n",
    "from skfda import representation as representation\n",
    "from skfda.exploratory.visualization import FPCAPlot\n",
    "from skfda.exploratory.visualization import FPCAPlot\n",
    "from skfda.preprocessing.dim_reduction import FPCA\n",
    "from skfda.representation.basis import BSpline, Fourier, Monomial\n",
    "import scipy\n",
    "from scipy.interpolate import BSpline\n",
    "import os\n",
    "import ignite\n",
    "from tqdm import tqdm\n",
    "import sklearn\n",
    "from sklearn.utils import shuffle\n",
    "from sklearn.decomposition import PCA\n",
    "from sklearn.linear_model import LogisticRegression\n",
    "from sklearn.metrics import classification_report, confusion_matrix\n",
    "from sklearn.cluster import KMeans\n",
    "import random\n",
    "from random import seed\n",
    "from scipy import stats\n",
    "import statistics\n",
    "from statistics import stdev\n",
    "import gc\n",
    "import skfda\n",
    "from skfda import FDataGrid as fd\n",
    "from skfda.representation.basis import BSpline as B\n",
    "from Functional_Data_functions import Compare_n_datas\n",
    "# from skfda.representation.basis import VectorValued as MultiBasis\n",
    "import copy"
   ]
  },
  {
   "cell_type": "code",
   "execution_count": 2,
   "metadata": {},
   "outputs": [
    {
     "name": "stderr",
     "output_type": "stream",
     "text": [
      "c:\\Users\\Utilisateur\\anaconda3\\lib\\site-packages\\rdata\\conversion\\_conversion.py:321: UserWarning: Unknown encoding. Assumed ASCII.\n",
      "  warnings.warn(\"Unknown encoding. Assumed ASCII.\")\n",
      "c:\\Users\\Utilisateur\\anaconda3\\lib\\site-packages\\rdata\\conversion\\_conversion.py:321: UserWarning: Unknown encoding. Assumed ASCII.\n",
      "  warnings.warn(\"Unknown encoding. Assumed ASCII.\")\n"
     ]
    }
   ],
   "source": [
    "##Importation des 1ère données: Phonèmes\n",
    "##Tâche: Classification en 5 classes \n",
    "Phoneme=skfda.datasets.fetch_cran(\"phoneme\",package_name=\"fda.usc\")\n",
    "phoneme=Phoneme['phoneme']\n",
    "\n",
    "x_train,x_test,y_train,y_test=phoneme['learn'],phoneme['test'],phoneme['classlearn'],phoneme['classtest']\n",
    "\n",
    "\n",
    "x_train_tensor=torch.tensor(x_train.data_matrix).reshape(250,1,150).cuda().float()\n",
    "x_test_tensor=torch.tensor(x_test.data_matrix).reshape(250,1,150).cuda().float()\n",
    "y_train_tensor=torch.tensor(y_train.codes).unsqueeze(1).unsqueeze(2).long().cuda()\n",
    "y_test_tensor=torch.tensor(y_test.codes).unsqueeze(1).unsqueeze(2).long().cuda()\n",
    "\n",
    "X1=torch.cat([x_train_tensor,x_test_tensor])\n",
    "Y1=torch.cat([y_train_tensor,y_test_tensor])"
   ]
  },
  {
   "cell_type": "code",
   "execution_count": 3,
   "metadata": {},
   "outputs": [
    {
     "name": "stderr",
     "output_type": "stream",
     "text": [
      "c:\\Users\\Utilisateur\\anaconda3\\lib\\site-packages\\rdata\\conversion\\_conversion.py:843: UserWarning: Missing constructor for R class \"sfts\". The constructor for class \"fts\" will be used instead.\n",
      "  warnings.warn(\n",
      "c:\\Users\\Utilisateur\\anaconda3\\lib\\site-packages\\rdata\\conversion\\_conversion.py:843: UserWarning: Missing constructor for R class \"fts\". The constructor for class \"fds\" will be used instead.\n",
      "  warnings.warn(\n",
      "c:\\Users\\Utilisateur\\anaconda3\\lib\\site-packages\\rdata\\conversion\\_conversion.py:843: UserWarning: Missing constructor for R class \"fds\". The underlying R object is returned instead.\n",
      "  warnings.warn(\n",
      "c:\\Users\\Utilisateur\\anaconda3\\lib\\site-packages\\rdata\\conversion\\_conversion.py:843: UserWarning: Missing constructor for R class \"sfts\". The constructor for class \"fts\" will be used instead.\n",
      "  warnings.warn(\n",
      "c:\\Users\\Utilisateur\\anaconda3\\lib\\site-packages\\rdata\\conversion\\_conversion.py:843: UserWarning: Missing constructor for R class \"fts\". The constructor for class \"fds\" will be used instead.\n",
      "  warnings.warn(\n",
      "c:\\Users\\Utilisateur\\anaconda3\\lib\\site-packages\\rdata\\conversion\\_conversion.py:843: UserWarning: Missing constructor for R class \"fds\". The underlying R object is returned instead.\n",
      "  warnings.warn(\n",
      "c:\\Users\\Utilisateur\\anaconda3\\lib\\site-packages\\rdata\\conversion\\_conversion.py:843: UserWarning: Missing constructor for R class \"sfts\". The constructor for class \"fts\" will be used instead.\n",
      "  warnings.warn(\n",
      "c:\\Users\\Utilisateur\\anaconda3\\lib\\site-packages\\rdata\\conversion\\_conversion.py:843: UserWarning: Missing constructor for R class \"fts\". The constructor for class \"fds\" will be used instead.\n",
      "  warnings.warn(\n",
      "c:\\Users\\Utilisateur\\anaconda3\\lib\\site-packages\\rdata\\conversion\\_conversion.py:843: UserWarning: Missing constructor for R class \"fds\". The underlying R object is returned instead.\n",
      "  warnings.warn(\n",
      "c:\\Users\\Utilisateur\\anaconda3\\lib\\site-packages\\rdata\\conversion\\_conversion.py:843: UserWarning: Missing constructor for R class \"sfts\". The constructor for class \"fts\" will be used instead.\n",
      "  warnings.warn(\n",
      "c:\\Users\\Utilisateur\\anaconda3\\lib\\site-packages\\rdata\\conversion\\_conversion.py:843: UserWarning: Missing constructor for R class \"fts\". The constructor for class \"fds\" will be used instead.\n",
      "  warnings.warn(\n",
      "c:\\Users\\Utilisateur\\anaconda3\\lib\\site-packages\\rdata\\conversion\\_conversion.py:843: UserWarning: Missing constructor for R class \"fds\". The underlying R object is returned instead.\n",
      "  warnings.warn(\n"
     ]
    },
    {
     "data": {
      "text/plain": [
       "100"
      ]
     },
     "execution_count": 3,
     "metadata": {},
     "output_type": "execute_result"
    }
   ],
   "source": [
    "##Importation des 2nd données: El_nino\n",
    "##Tâche: Classification en 4 classes \n",
    "ElNino_OISST_region_1and2=skfda.datasets.fetch_cran(\"ElNino_OISST_region_1and2\",\"rainbow\")\n",
    "ElNino_OISST_region_3=skfda.datasets.fetch_cran(\"ElNino_OISST_region_3\",\"rainbow\")\n",
    "ElNino_OISST_region_4=skfda.datasets.fetch_cran(\"ElNino_OISST_region_4\",\"rainbow\")\n",
    "ElNino_OISST_region_3and4=skfda.datasets.fetch_cran(\"ElNino_OISST_region_3and4\",\"rainbow\")\n",
    "ElNino_OISST_region_1and2_y=ElNino_OISST_region_1and2['ElNino_OISST_region_1and2']['y'].to_numpy()\n",
    "ElNino_OISST_region_1and2_x=ElNino_OISST_region_1and2['ElNino_OISST_region_1and2']['x']\n",
    "# plt.plot(ElNino_OISST_region_1and2_x,ElNino_OISST_region_1and2_y)\n",
    "# plt.show(\n",
    "# )\n",
    "ElNino_OISST_region_3_y=ElNino_OISST_region_3['ElNino_OISST_region_3']['y'].to_numpy()\n",
    "ElNino_OISST_region_3_x=ElNino_OISST_region_3['ElNino_OISST_region_3']['x']\n",
    "# plt.plot(ElNino_OISST_region_3_x,ElNino_OISST_region_3_y)\n",
    "# plt.show(\n",
    "\n",
    "# )\n",
    "ElNino_OISST_region_3and4_y=ElNino_OISST_region_3and4['ElNino_OISST_region_3and4']['y'].to_numpy()\n",
    "ElNino_OISST_region_3and4_x=ElNino_OISST_region_3and4['ElNino_OISST_region_3and4']['x']\n",
    "# plt.plot(ElNino_OISST_region_3and4_x,ElNino_OISST_region_3and4_y)\n",
    "# plt.show(\n",
    "# )\n",
    "\n",
    "\n",
    "ElNino_OISST_region_4_y=ElNino_OISST_region_4['ElNino_OISST_region_4']['y'].to_numpy()\n",
    "ElNino_OISST_region_4_x=ElNino_OISST_region_4['ElNino_OISST_region_4']['x']\n",
    "# plt.plot(ElNino_OISST_region_4_x,ElNino_OISST_region_4_y)\n",
    "# plt.show(\n",
    "# )\n",
    "grid_points=ElNino_OISST_region_1and2_x\n",
    "T=len(grid_points)\n",
    "x0=torch.tensor(ElNino_OISST_region_1and2_y).float().cuda()\n",
    "x1=torch.tensor(ElNino_OISST_region_3_y).float().cuda()\n",
    "x2=torch.tensor(ElNino_OISST_region_4_y).float().cuda()\n",
    "x3=torch.tensor(ElNino_OISST_region_3and4_y).float().cuda()\n",
    "x0=torch.t(x0)\n",
    "x1=torch.t(x1)\n",
    "x2=torch.t(x2)\n",
    "x3=torch.t(x3)\n",
    "\n",
    "\n",
    "Y2= torch.tensor([0] * x0.shape[0] + [1] * x1.shape[0] + [2] * x2.shape[0] + [3] * x3.shape[0]).unsqueeze(1).unsqueeze(2).cuda()\n",
    "X2=torch.concatenate([x0,x1,x2,x3]).reshape(148,1,12)\n",
    "\n",
    "\n",
    "tec=skfda.datasets.fetch_cran(\"tecator\",\"fda.usc\")\n",
    "len(tec['tecator']['absorp.fdata'].grid_points[0])"
   ]
  },
  {
   "cell_type": "code",
   "execution_count": 4,
   "metadata": {},
   "outputs": [
    {
     "name": "stdout",
     "output_type": "stream",
     "text": [
      "Index(['V1', 'V2', 'V3', 'V4', 'V5', 'V6', 'V7', 'V8', 'V9', 'V10',\n",
      "       ...\n",
      "       'V165', 'V166', 'V167', 'V168', 'V169', 'V170', 'V171', 'V172', 'V173',\n",
      "       'V174'],\n",
      "      dtype='object', length=174)\n"
     ]
    },
    {
     "data": {
      "text/plain": [
       "torch.Size([520, 1, 20])"
      ]
     },
     "execution_count": 4,
     "metadata": {},
     "output_type": "execute_result"
    }
   ],
   "source": [
    "####Importation des 3ème données: SOFA\n",
    "##Tâche: Classification binaire\n",
    "\n",
    "os.chdir(\"C:/Users/Utilisateur/Documents/Master_SSD/STAGE_RECHERCHE/Smooth_strides_tests\")\n",
    "# Lire le fichier CSV\n",
    "sofa = pd.read_csv('sofa.csv')\n",
    "T=20\n",
    "# Attribuer des noms de colonnes personnalisés\n",
    "\n",
    "\n",
    "# Afficher les noms de colonnes\n",
    "print(sofa.columns)\n",
    "grid_points=np.arange(T+1)[1:]\n",
    "sofa.values.shape\n",
    "Y_X=torch.from_numpy(sofa.values).float().cuda()\n",
    "\n",
    "Y3,X3=Y_X[:,0].unsqueeze(1).unsqueeze(2).long(),Y_X[:,1:T+1].reshape(520,1,T)\n",
    "X3.shape\n"
   ]
  },
  {
   "cell_type": "code",
   "execution_count": 5,
   "metadata": {},
   "outputs": [],
   "source": [
    "X4,Y4=skfda.datasets.fetch_weather(return_X_y=True)\n",
    "Y4=torch.tensor(Y4).long().unsqueeze(1).unsqueeze(2).cuda()\n",
    "\n"
   ]
  },
  {
   "cell_type": "code",
   "execution_count": 6,
   "metadata": {},
   "outputs": [
    {
     "data": {
      "text/plain": [
       "((215, 100, 1), torch.Size([215, 3, 1, 1]))"
      ]
     },
     "execution_count": 6,
     "metadata": {},
     "output_type": "execute_result"
    }
   ],
   "source": [
    "\n",
    "tec=skfda.datasets.fetch_cran(\"tecator\",\"fda.usc\")\n",
    "X5=tec['tecator']['absorp.fdata']\n",
    "Y5=torch.tensor(tec['tecator'][\"y\"].values).unsqueeze(2).unsqueeze(3).float().cuda()\n",
    "X5.data_matrix.shape,Y5.shape\n"
   ]
  },
  {
   "cell_type": "code",
   "execution_count": 7,
   "metadata": {},
   "outputs": [],
   "source": [
    "##Création des hyperparamètres:\n",
    "#Paramètres communs:\n",
    "n_epoch=30\n",
    "opt_mlp='SGD'\n",
    "opt_TSC=\"SGD\"\n",
    "opt_lstm=\"SGD\"\n",
    "lr_TSC=0.00089\n",
    "lr_mlp=0.00089\n",
    "lr_lstm=0.0089\n",
    "drop_out=0.4\n",
    "negative_slope=0.17\n",
    "betas=[0.499,0.998]\n"
   ]
  },
  {
   "cell_type": "code",
   "execution_count": 8,
   "metadata": {},
   "outputs": [],
   "source": [
    "#MLP:\n",
    "param_mlp=HyperParameters(n_epochs=n_epoch,\n",
    "                    #neurons:\n",
    "                        n_conv_in=259, \n",
    "                        n_conv_in2=128, \n",
    "                        n_conv_in3=128,\n",
    "                        n_Flat_out=256,\n",
    "                        \n",
    "                    #Optmizer:\n",
    "                        opt=opt_mlp,\n",
    "                        decay=0.0003,\n",
    "                        lr_decay=0.0003,\n",
    "                        nesterov=False, \n",
    "                        lr=lr_mlp,\n",
    "                        loss=nn.CrossEntropyLoss(),\n",
    "                    #Activations:\n",
    "                        dropout=drop_out,\n",
    "                        negative_slope=negative_slope,\n",
    "                        activation=nn.Identity(),\n",
    "                    )\n"
   ]
  },
  {
   "cell_type": "code",
   "execution_count": 9,
   "metadata": {},
   "outputs": [],
   "source": [
    "#LSTM\n",
    "param_lstm=HyperParameters(n_epochs=n_epoch,\n",
    "               #Lstm layer:    \n",
    "                  n_conv_in=64, #nombre de features de sorties\n",
    "                  kernel_size_1=3, #Nombre de noyaux récurrents\n",
    "                  bidirectional=True, #Bidirectionnel? oui ou non\n",
    "\n",
    "\n",
    "               #Couches denses:\n",
    "                  n_conv_in2=128, \n",
    "                  n_conv_in3=128,\n",
    "                  n_Flat_out=256,\n",
    "                  \n",
    "               #Optmizer:\n",
    "                  opt=opt_lstm,\n",
    "                  decay=0.0003,     \n",
    "                  lr_decay=0.0003,  #for SGD optimization\n",
    "                  nesterov=False,  #for SGD optimization\n",
    "                  lr=lr_lstm,\n",
    "                  betas=betas,\n",
    "                  loss=nn.CrossEntropyLoss(),\n",
    "                  \n",
    "               #Activations:\n",
    "                  dropout=drop_out,\n",
    "                  negative_slope=negative_slope,\n",
    "                  activation=nn.Identity(),\n",
    "            )\n"
   ]
  },
  {
   "cell_type": "code",
   "execution_count": 10,
   "metadata": {},
   "outputs": [
    {
     "name": "stdout",
     "output_type": "stream",
     "text": [
      "Taille de la sortie de la troisième couche de convolution: 15\n",
      "Conv_dim_out= 15\n",
      "Si Conv_dim_out<0, augmentez la taille de sortie!!\n"
     ]
    }
   ],
   "source": [
    "#TSC\n",
    "param_TSCNN=HyperParameters(n_epochs=n_epoch, \n",
    "#features:\n",
    "            n_conv_in=8,    #Premiere couche\n",
    "            n_conv_in2=512, #Seconde couche\n",
    "            n_conv_in3=128, #Troisième couche\n",
    "            n_Flat_out=256, #Couche dense couche\n",
    "#paramètres du Lissage:\n",
    "            granulation=7500,\n",
    "            n_knots=9,  #Nombre de noeuds\n",
    "            order=4,    #ordre du lissage        \n",
    "            derivative=[0], #liste des ordre des dérivées\n",
    "            \n",
    "#Couches de convolution:\n",
    "    #Couche 1:\n",
    "                kernel_size_1=7,\n",
    "                stride_1=95,\n",
    "                dilation_1=75,\n",
    "                padding_1=200,\n",
    "    #Pooling 1: \n",
    "                kernel_size_pool_1=5,\n",
    "                stride_pool_1=2,\n",
    "                dilation_pool_1=1,\n",
    "                padding_pool_1=1,\n",
    "    #Couche 2:\n",
    "                kernel_size_2=7,\n",
    "                stride_2=2,\n",
    "                dilation_2=1,\n",
    "                padding_2=0,\n",
    "    #Pooling 2:\n",
    "                kernel_size_pool_2=3,\n",
    "                stride_pool_2=1,\n",
    "                dilation_pool_2=1,\n",
    "                padding_pool_2=1,\n",
    "    #Couche 3: \n",
    "                kernel_size_3=3,\n",
    "                stride_3=1,\n",
    "                dilation_3=1,\n",
    "                padding_3=0,\n",
    "    #Pooling 3:\n",
    "                kernel_size_pool_3=3,\n",
    "                stride_pool_3=1,\n",
    "                dilation_pool_3=1,\n",
    "                padding_pool_3=1,\n",
    "\n",
    "            #Optmizer:\n",
    "                  opt=opt_TSC,\n",
    "                  decay=0.0003,     \n",
    "                  lr_decay=0.0003,  #for SGD optimization\n",
    "                  nesterov=False,  #for SGD optimization\n",
    "                  lr=lr_TSC,\n",
    "                  loss=nn.CrossEntropyLoss(),\n",
    "                  betas=betas,\n",
    "            #Activations:\n",
    "                  dropout=drop_out,\n",
    "                  negative_slope=negative_slope,\n",
    "                  activation=nn.Identity(),\n",
    ")\n",
    "print(\"Taille de la sortie de la troisième couche de convolution:\",conv_total_out(param_TSCNN))\n",
    "print(\"Conv_dim_out=\",conv_total_out(param_TSCNN))\n",
    "print(\"Si Conv_dim_out<0, augmentez la taille de sortie!!\")\n"
   ]
  },
  {
   "cell_type": "code",
   "execution_count": 11,
   "metadata": {},
   "outputs": [],
   "source": [
    "# Param pour chaque dataset pour TSCNN Copié en mémoire:\n",
    "\n",
    "param_TSCNN_phoneme=copy.deepcopy(param_TSCNN)\n",
    "param_TSCNN_el_nino=copy.deepcopy(param_TSCNN)\n",
    "param_TSCNN_sofa=copy.deepcopy(param_TSCNN)\n",
    "param_TSCNN_weather=copy.deepcopy(param_TSCNN)\n",
    "param_TSCNN_tecator=copy.deepcopy(param_TSCNN)\n",
    "\n",
    "param_TSCNN_phoneme_2,param_TSCNN_el_nino_2,param_TSCNN_sofa_2,param_TSCNN_weather_2,param_TSCNN_tecator_2=copy.deepcopy(param_TSCNN_phoneme),copy.deepcopy(param_TSCNN_el_nino),copy.deepcopy(param_TSCNN_sofa),copy.deepcopy(param_TSCNN_weather),copy.deepcopy(param_TSCNN_tecator)\n",
    "param_TSCNN_phoneme_3,param_TSCNN_el_nino_3,param_TSCNN_sofa_3,param_TSCNN_weather_3,param_TSCNN_tecator_3=copy.deepcopy(param_TSCNN_phoneme),copy.deepcopy(param_TSCNN_el_nino),copy.deepcopy(param_TSCNN_sofa),copy.deepcopy(param_TSCNN_weather),copy.deepcopy(param_TSCNN_tecator)\n",
    "param_TSCNN_phoneme_4,param_TSCNN_el_nino_4,param_TSCNN_sofa_4,param_TSCNN_weather_4,param_TSCNN_tecator_4=copy.deepcopy(param_TSCNN_phoneme),copy.deepcopy(param_TSCNN_el_nino),copy.deepcopy(param_TSCNN_sofa),copy.deepcopy(param_TSCNN_weather),copy.deepcopy(param_TSCNN_tecator)\n",
    "# param_TSCNN_phoneme_2.order,param_TSCNN_el_nino_2.order,param_TSCNN_sofa_2.order,param_TSCNN_weather_2.order,param_TSCNN_tecator_2.order=3,3,3,3,3\n",
    "# param_TSCNN_phoneme_3.order,param_TSCNN_el_nino_3.order,param_TSCNN_sofa_3.order,param_TSCNN_weather_3.order,param_TSCNN_tecator_3.order=4,4,4,4,4\n",
    "# param_TSCNN_phoneme_4.order,param_TSCNN_el_nino_4.order,param_TSCNN_sofa_4.order,param_TSCNN_weather_4.order,param_TSCNN_tecator_4.order=5,5,5,5,5\n",
    "param_TSCNN_phoneme_2.order,param_TSCNN_el_nino_2.order,param_TSCNN_sofa_2.order,param_TSCNN_weather_2.order,param_TSCNN_tecator_2.order=3,3,3,3,3\n",
    "param_TSCNN_phoneme_3.order,param_TSCNN_el_nino_3.order,param_TSCNN_sofa_3.order,param_TSCNN_weather_3.order,param_TSCNN_tecator_3.order=4,4,4,4,4\n",
    "param_TSCNN_phoneme_4.order,param_TSCNN_el_nino_4.order,param_TSCNN_sofa_4.order,param_TSCNN_weather_4.order,param_TSCNN_tecator_4.order=5,5,5,5,5\n",
    "# param_TSCNN_phoneme_2.loss,param_TSCNN_el_nino_2.loss,param_TSCNN_sofa_2.loss,param_TSCNN_weather_2.loss=nn.CrossEntropyLoss(),nn.CrossEntropyLoss(),nn.CrossEntropyLoss(),nn.CrossEntropyLoss()\n"
   ]
  },
  {
   "cell_type": "code",
   "execution_count": 12,
   "metadata": {},
   "outputs": [],
   "source": [
    "#Liste des jeux de données à tester:\n",
    "##Création des dictionnaires de datasets\n",
    "data_dict1 = {\n",
    "    'X': X1,\n",
    "    'Y': Y1,\n",
    "    'dataset_name': \"Phoneme\"\n",
    "}\n",
    "data_dict2= {\n",
    "    'X': X2,\n",
    "    'Y': Y2,\n",
    "    'dataset_name': \"El Nino\"\n",
    "}\n",
    "data_dict3 = {\n",
    "    'X': X3,\n",
    "    'Y': Y3,\n",
    "    'dataset_name': \"Sofa\"\n",
    "}\n",
    "data_dict4 = {\n",
    "    'X': X4,\n",
    "    'Y': Y4,\n",
    "    'dataset_name': \"Canadian Weather\"\n",
    "}\n",
    "data_dict5= {\n",
    "    'X': X5,\n",
    "    'Y': Y5,\n",
    "    'dataset_name': \"Tecator\"\n",
    "}\n",
    "##Création des listes de datasets\n",
    "Data_list=[\n",
    "            data_dict1,\n",
    "            data_dict2,\n",
    "            data_dict3,\n",
    "            data_dict4,\n",
    "            # data_dict5,\n",
    "           ]\n"
   ]
  },
  {
   "cell_type": "code",
   "execution_count": 13,
   "metadata": {},
   "outputs": [],
   "source": [
    "\n",
    "##Liste des modèles à tester \n",
    "model_list=[\n",
    "        \"TSC\",\n",
    "        \"TSC avec dérivées 1 et 2\",\n",
    "        \"GRU\",\n",
    "        \"LSTM\",\n",
    "        \"MLP\",\n",
    "        ]\n",
    "colors=[\n",
    "        \"darkred\",\n",
    "        \"red\",\n",
    "        \"darkblue\",\n",
    "        \"magenta\",\n",
    "        \"darkgreen\",\n",
    "        ]\n"
   ]
  },
  {
   "cell_type": "code",
   "execution_count": 14,
   "metadata": {},
   "outputs": [],
   "source": [
    "\n",
    "# Liste des paramètres spécifiques à chaque jeu de données pour chaque modèle:\n",
    "\n",
    "param_special = {\n",
    "    'TSC': { #Premier TSC \n",
    "        \"Phoneme\": copy.deepcopy(param_TSCNN_phoneme), \n",
    "        \"El Nino\": copy.deepcopy(param_TSCNN_el_nino), \n",
    "        \"Sofa\": copy.deepcopy(param_TSCNN_sofa), \n",
    "        \"Canadian Weather\": copy.deepcopy(param_TSCNN_weather), \n",
    "        \"Tecator\": copy.deepcopy(param_TSCNN_tecator), \n",
    "        # ...\n",
    "    },\n",
    "    \"TSC avec dérivées 1 et 2\": { #Deuxieme TSC avec les dérivées \n",
    "        \"Phoneme\": copy.deepcopy(param_TSCNN_phoneme), \n",
    "        \"El Nino\": copy.deepcopy(param_TSCNN_el_nino), \n",
    "        \"Sofa\": copy.deepcopy(param_TSCNN_sofa), \n",
    "        \"Canadian Weather\": copy.deepcopy(param_TSCNN_weather), \n",
    "        \"Tecator\": copy.deepcopy(param_TSCNN_tecator), \n",
    "        # ...\n",
    "    },\n",
    "    'LSTM': {\n",
    "    \"Phoneme\":copy.deepcopy(param_lstm), \n",
    "        \"El Nino\":copy.deepcopy(param_lstm), \n",
    "        \"Sofa\":copy.deepcopy(param_lstm), \n",
    "        \"Canadian Weather\":copy.deepcopy(param_lstm), \n",
    "        \"Tecator\":copy.deepcopy(param_lstm), \n",
    "        # ...\n",
    "    },\n",
    "    'GRU': {  #Modèle GRU, memes paramètres que le LSTM ! (ca marche...)\n",
    "        \"Phoneme\": copy.deepcopy(param_lstm),\n",
    "        \"El Nino\": copy.deepcopy(param_lstm),\n",
    "        \"Sofa\": copy.deepcopy(param_lstm),\n",
    "        \"Canadian Weather\": copy.deepcopy(param_lstm),\n",
    "        \"Tecator\": copy.deepcopy(param_lstm),\n",
    "        # ...\n",
    "    },\n",
    "    'MLP': {\n",
    "        \"Phoneme\":copy.deepcopy(param_mlp), \n",
    "        \"El Nino\":copy.deepcopy(param_mlp), \n",
    "        \"Sofa\":copy.deepcopy(param_mlp), \n",
    "        \"Canadian Weather\":copy.deepcopy(param_mlp), \n",
    "        \"Tecator\":copy.deepcopy(param_mlp), \n",
    "      \n",
    "    },\n",
    "}"
   ]
  },
  {
   "cell_type": "code",
   "execution_count": 15,
   "metadata": {},
   "outputs": [
    {
     "name": "stdout",
     "output_type": "stream",
     "text": [
      "premier TSC.derivative pour  Phoneme = [0]\n",
      "deuxième TSC.derivative pour  Phoneme = [0, 1, 2]\n",
      "premier TSC.derivative pour  El Nino = [0]\n",
      "deuxième TSC.derivative pour  El Nino = [0, 1, 2]\n",
      "premier TSC.derivative pour  Sofa = [0]\n",
      "deuxième TSC.derivative pour  Sofa = [0, 1, 2]\n",
      "premier TSC.derivative pour  Canadian Weather = [0]\n",
      "deuxième TSC.derivative pour  Canadian Weather = [0, 1, 2]\n"
     ]
    }
   ],
   "source": [
    "#Ajout des dérivées pour le second TSC:\n",
    "for dataset in Data_list:\n",
    "    #Pour tout dataset, on récupère le nom du dataset \n",
    "    name=dataset['dataset_name']\n",
    "    #les dérivées de params de TSC avec \n",
    "    # dérivée devient [0,1,2]\n",
    "    #Id est: La courbe, sa dérivée et sa dérivée 2nd \n",
    "    # sont les channels d'entrée \n",
    "    param_special['TSC avec dérivées 1 et 2'][name].derivative=[0,1,2]\n",
    "    print(\"premier TSC.derivative pour \",name,\"=\",param_special['TSC'][name].derivative,)\n",
    "    print(\"deuxième TSC.derivative pour \",name,\"=\",param_special['TSC avec dérivées 1 et 2'][name].derivative,)"
   ]
  },
  {
   "cell_type": "code",
   "execution_count": 16,
   "metadata": {},
   "outputs": [
    {
     "name": "stdout",
     "output_type": "stream",
     "text": [
      "Phoneme\n",
      "VectorValued(basis_list=(BSpline(domain_range=((1.0, 12.0),), n_basis=11, order=4, knots=(1.0, 2.375, 3.75, 5.125, 6.5, 7.875, 9.25, 10.625, 12.0)),)) =basis\n",
      "El Nino\n",
      "VectorValued(basis_list=(BSpline(domain_range=((1.0, 12.0),), n_basis=11, order=4, knots=(1.0, 2.375, 3.75, 5.125, 6.5, 7.875, 9.25, 10.625, 12.0)),)) =basis\n",
      "Sofa\n",
      "VectorValued(basis_list=(BSpline(domain_range=((1.0, 12.0),), n_basis=11, order=4, knots=(1.0, 2.375, 3.75, 5.125, 6.5, 7.875, 9.25, 10.625, 12.0)),)) =basis\n",
      "Canadian Weather\n",
      "VectorValued(basis_list=(BSpline(domain_range=((1.0, 12.0),), n_basis=11, order=4, knots=(1.0, 2.375, 3.75, 5.125, 6.5, 7.875, 9.25, 10.625, 12.0)),)) =basis\n"
     ]
    }
   ],
   "source": [
    "# On peut alors accéder à \n",
    "# n'importe quels paramètres de \n",
    "# n'importe quel modèle \n",
    "# pour  n'importe quel jeu de données:\n",
    "\n",
    "for i,data in enumerate(Data_list):\n",
    "    name=data['dataset_name']\n",
    "    print(name)\n",
    "    # print(param_special['TSC avec dérivées 1 et 2'][name].order,\"=order_tsc\")\n",
    "    # print(param_special['LSTM'][name].n_conv_in,\"=channels_lstm\")\n",
    "    # print(param_special['MLP'][name].lr,\"=lr_mlp\")\n",
    "    # print(param_special['TSC'][name].granulation,\"=granulation\")\n",
    "    print(param_special['TSC avec dérivées 1 et 2'][name].basis,\"=basis\")\n",
    "# Ici ce sont tous les mêmes pour chaque dataset car on a copié!"
   ]
  },
  {
   "cell_type": "code",
   "execution_count": 17,
   "metadata": {},
   "outputs": [
    {
     "name": "stdout",
     "output_type": "stream",
     "text": [
      "Phoneme\n",
      "TSC\n"
     ]
    },
    {
     "name": "stderr",
     "output_type": "stream",
     "text": [
      "100%|██████████| 40/40 [16:45<00:00, 25.13s/it]\n"
     ]
    },
    {
     "name": "stdout",
     "output_type": "stream",
     "text": [
      "TSC avec dérivées 1 et 2\n"
     ]
    },
    {
     "name": "stderr",
     "output_type": "stream",
     "text": [
      "100%|██████████| 40/40 [33:03<00:00, 49.59s/it]\n"
     ]
    },
    {
     "name": "stdout",
     "output_type": "stream",
     "text": [
      "GRU\n"
     ]
    },
    {
     "name": "stderr",
     "output_type": "stream",
     "text": [
      "100%|██████████| 40/40 [06:21<00:00,  9.55s/it]\n"
     ]
    },
    {
     "name": "stdout",
     "output_type": "stream",
     "text": [
      "LSTM\n"
     ]
    },
    {
     "name": "stderr",
     "output_type": "stream",
     "text": [
      "100%|██████████| 40/40 [06:21<00:00,  9.53s/it]\n"
     ]
    },
    {
     "name": "stdout",
     "output_type": "stream",
     "text": [
      "MLP\n"
     ]
    },
    {
     "name": "stderr",
     "output_type": "stream",
     "text": [
      "100%|██████████| 40/40 [04:22<00:00,  6.57s/it]\n"
     ]
    },
    {
     "data": {
      "text/plain": [
       "torch.Size([200, 40, 1, 5])"
      ]
     },
     "execution_count": 17,
     "metadata": {},
     "output_type": "execute_result"
    }
   ],
   "source": [
    "## Passons à la comparaison! (Enfin)\n",
    "##En fonctions des epochs\n",
    "monte_carlo_test_acc,mean_acc_test,IC_acc_test=Compare_epochs(\n",
    "    datasets=[data_dict1],\n",
    "    models=model_list,\n",
    "    spec_param=param_special,\n",
    "    alpha=0.95,\n",
    "    supra_epochs=40,\n",
    ")\n",
    "monte_carlo_test_acc.shape"
   ]
  },
  {
   "cell_type": "code",
   "execution_count": 18,
   "metadata": {},
   "outputs": [
    {
     "data": {
      "image/png": "[encoded data removed]",
      "text/plain": [
       "<Figure size 800x800 with 1 Axes>"
      ]
     },
     "metadata": {},
     "output_type": "display_data"
    }
   ],
   "source": [
    "#Graphique des résultats:\n",
    "\n",
    "fig=Window_Maker(\n",
    "#Paramètres mathématiques\n",
    "        mean_acc_test=mean_acc_test[:,],\n",
    "        IC_acc_test=IC_acc_test[:,],\n",
    "    #Epochs à afficher\n",
    "        epochs=[0,n_epoch],\n",
    "    #Liste des modèles:\n",
    "        models=[\n",
    "        \"TSC's\",\n",
    "        \"TSC's (1rst & 2nd order derivatives)\",\n",
    "        \"GRU's\",\n",
    "        \"LSTM's\",\n",
    "        \"MLP's\",\n",
    "                ],\n",
    "        \n",
    "    #Intervals de confiances:    \n",
    "    \n",
    "        Conf_int=False,\n",
    "#Paramètres du plot:\n",
    "    #Taille de la figure:\n",
    "\n",
    "        fig_size=(8,\n",
    "                8),\n",
    "\n",
    "        colors=colors,\n",
    "    #Choix des légendes et titres:              \n",
    "        title='Accuracy vs Epochs SOFA',\n",
    "        legend_attach=\" accuracy\",\n",
    "        x_label=\"Epochs\",\n",
    "        y_label='Validation Accuracy',\n",
    "    #Taille des polices:    \n",
    "        fontsize_title=25,     \n",
    "        fontsize_ax=16,        \n",
    "        fontsize_legend=14,\n",
    "\n",
    "    #Gap Titre /Figure: \n",
    "        espace_entre_titre_et_graphe=10,\n",
    "    )"
   ]
  },
  {
   "cell_type": "code",
   "execution_count": 19,
   "metadata": {},
   "outputs": [],
   "source": [
    "fig.savefig(\"C:/Users/Utilisateur/Documents/Master_SSD/STAGE_RECHERCHE/FDA_python/TSCNN/Comp_phoneme_no_IC_200e.pdf\",bbox_inches=\"tight\")\n",
    "# fig.savefig(\"path+nom_de_la_figure.pdf\",bbox_inches=\"tight\")"
   ]
  },
  {
   "cell_type": "code",
   "execution_count": 17,
   "metadata": {},
   "outputs": [],
   "source": [
    "## Grilles de paramètres optimisables:\n",
    "\n",
    "\n",
    "grids = {\n",
    "    \"n_epochs\": 25,\n",
    "    \"n_conv_in\": (8,16,32,64, 128,256),\n",
    "    \"n_conv_in2\": (8,16,32,64, 128,256),\n",
    "    \"n_conv_in3\": (8,16,32,64, 128,256),\n",
    "    \"n_Flat_out\": (8,16,32,64, 128,256),\n",
    "    \"stride_1\": (100,75,100),\n",
    "    \"stride_2\": (1,2),\n",
    "    \"stride_3\": 1,\n",
    "    \"stride_pool_1\": 1,\n",
    "    \"stride_pool_2\": 1,\n",
    "    \"stride_pool_3\": 1,\n",
    "    \"kernel_size_1\": (4,5,6,7,11,13,15,17),\n",
    "    \"kernel_size_2\": (2,3,4),\n",
    "    \"kernel_size_3\": (2,3,4),\n",
    "    \"kernel_size_pool_1\": np.arange(3)[2:],\n",
    "    \"kernel_size_pool_2\": np.arange(3)[2:],\n",
    "    \"kernel_size_pool_3\": (2,3),\n",
    "    \"dilation_1\": np.arange(start=50,stop=100,step=10)[1:],\n",
    "    # \"dilation_2\": np.arange(start=50,stop=100)[1:],\n",
    "    # \"dilation_3\": np.arange(start=50,stop=100)[1:],\n",
    "    \"dilation_pool_1\": 1,\n",
    "    \"dilation_pool_2\": 1,\n",
    "    \"dilation_pool_3\": 1,\n",
    "    \"padding_1\": np.arange(3)[1:],\n",
    "    \"padding_2\": np.arange(3)[1:],\n",
    "    \"padding_3\": np.arange(3)[1:],\n",
    "    \"padding_pool_1\": np.arange(2)[1:],\n",
    "    \"padding_pool_2\": np.arange(2)[1:],\n",
    "    \"padding_pool_3\": np.arange(2)[1:],\n",
    "    \"opt\": \"Adam\",\n",
    "    \"lr\": (0.00089,0.0001,0.00007),\n",
    "    \"loss\": nn.CrossEntropyLoss(),\n",
    "    \"activation\": [nn.Tanh(),nn.Sigmoid()],\n",
    "    \"lr\":(0.0001,0.0005,0.001,0.005,0.0089),\n",
    "    \"opt\":[\"Adam\",\"SGD\",\"Adagrad\",\"AdaDelta\"]\n",
    "}\n"
   ]
  },
  {
   "cell_type": "code",
   "execution_count": 20,
   "metadata": {},
   "outputs": [
    {
     "name": "stderr",
     "output_type": "stream",
     "text": [
      "  0%|          | 0/4 [00:00<?, ?it/s]"
     ]
    },
    {
     "name": "stdout",
     "output_type": "stream",
     "text": [
      "dilation_1 = 60\n"
     ]
    },
    {
     "name": "stderr",
     "output_type": "stream",
     "text": [
      "100%|██████████| 5/5 [00:20<00:00,  4.02s/it]\n",
      " 25%|██▌       | 1/4 [00:20<01:00, 20.24s/it]"
     ]
    },
    {
     "name": "stdout",
     "output_type": "stream",
     "text": [
      "accuracy moyenne avant tensor(0.)\n",
      "accuracy moyenne après tensor(78.7436)\n",
      "dilation_1 = 70\n"
     ]
    },
    {
     "name": "stderr",
     "output_type": "stream",
     "text": [
      "100%|██████████| 5/5 [00:20<00:00,  4.04s/it]\n",
      " 50%|█████     | 2/4 [00:40<00:40, 20.30s/it]"
     ]
    },
    {
     "name": "stdout",
     "output_type": "stream",
     "text": [
      "accuracy moyenne avant tensor(78.7436)\n",
      "accuracy moyenne après tensor(80.4103)\n",
      "dilation_1 = 80\n"
     ]
    },
    {
     "name": "stderr",
     "output_type": "stream",
     "text": [
      "100%|██████████| 5/5 [00:20<00:00,  4.06s/it]\n",
      " 75%|███████▌  | 3/4 [01:01<00:20, 20.38s/it]"
     ]
    },
    {
     "name": "stdout",
     "output_type": "stream",
     "text": [
      "accuracy moyenne avant tensor(80.4103)\n",
      "accuracy moyenne après tensor(79.8359)\n",
      "dilation_1 = 90\n"
     ]
    },
    {
     "name": "stderr",
     "output_type": "stream",
     "text": [
      "100%|██████████| 5/5 [00:20<00:00,  4.02s/it]\n",
      "100%|██████████| 4/4 [01:21<00:00, 20.33s/it]"
     ]
    },
    {
     "name": "stdout",
     "output_type": "stream",
     "text": [
      "accuracy moyenne avant tensor(80.4103)\n",
      "accuracy moyenne après tensor(79.0103)\n"
     ]
    },
    {
     "name": "stderr",
     "output_type": "stream",
     "text": [
      "\n"
     ]
    }
   ],
   "source": [
    "##Chercher la meilleure dilatation\n",
    "param_opt,Accuracy=Hyper_parameter_GridSearch(\n",
    "    supra_epochs=3,\n",
    "    model_class='TSC',\n",
    "    hyperparams=param_special['TSC']['Sofa'],\n",
    "    grid=grids['dilation_1'],\n",
    "    parameter='dilation_1',\n",
    "    # data_dict=data_dict1, #Phoneme\n",
    "    # data_dict=data_dict2, #EL nino\n",
    "    data_dict=data_dict3, #Sofa\n",
    "    # data_dict=data_dict4, #Weather\n",
    "    # data_dict=data_dict5, #Tecator\n",
    "    \n",
    "    )"
   ]
  },
  {
   "cell_type": "code",
   "execution_count": 21,
   "metadata": {},
   "outputs": [
    {
     "data": {
      "text/plain": [
       "(70, 70)"
      ]
     },
     "execution_count": 21,
     "metadata": {},
     "output_type": "execute_result"
    }
   ],
   "source": [
    "##Les meilleurs paramètres sont sélectionnés\n",
    "param_opt.dilation_1,param_special['TSC']['Sofa'].dilation_1"
   ]
  },
  {
   "cell_type": "code",
   "execution_count": 20,
   "metadata": {},
   "outputs": [],
   "source": [
    "parametres_a_tester=[\n",
    "##Optimiseurs\n",
    "        \"n_conv_in\",\n",
    "        \"n_conv_in1\",\n",
    "        \"n_conv_in2\",\n",
    "\n",
    "                     ]"
   ]
  },
  {
   "cell_type": "code",
   "execution_count": 21,
   "metadata": {},
   "outputs": [
    {
     "name": "stdout",
     "output_type": "stream",
     "text": [
      "n_conv_in = 8\n",
      "n_conv_in = 8\n"
     ]
    },
    {
     "name": "stderr",
     "output_type": "stream",
     "text": [
      "100%|██████████| 3/3 [00:16<00:00,  5.36s/it]\n"
     ]
    },
    {
     "name": "stdout",
     "output_type": "stream",
     "text": [
      "n_conv_in = 16\n"
     ]
    },
    {
     "name": "stderr",
     "output_type": "stream",
     "text": [
      "100%|██████████| 3/3 [00:16<00:00,  5.34s/it]\n"
     ]
    },
    {
     "name": "stdout",
     "output_type": "stream",
     "text": [
      "n_conv_in = 32\n"
     ]
    },
    {
     "name": "stderr",
     "output_type": "stream",
     "text": [
      "100%|██████████| 3/3 [00:16<00:00,  5.44s/it]\n"
     ]
    },
    {
     "name": "stdout",
     "output_type": "stream",
     "text": [
      "n_conv_in = 64\n"
     ]
    },
    {
     "name": "stderr",
     "output_type": "stream",
     "text": [
      "100%|██████████| 3/3 [00:17<00:00,  5.84s/it]\n"
     ]
    },
    {
     "name": "stdout",
     "output_type": "stream",
     "text": [
      "n_conv_in = 128\n"
     ]
    },
    {
     "name": "stderr",
     "output_type": "stream",
     "text": [
      "100%|██████████| 3/3 [00:19<00:00,  6.39s/it]\n"
     ]
    },
    {
     "name": "stdout",
     "output_type": "stream",
     "text": [
      "n_conv_in = 256\n"
     ]
    },
    {
     "name": "stderr",
     "output_type": "stream",
     "text": [
      "100%|██████████| 3/3 [00:22<00:00,  7.65s/it]\n"
     ]
    },
    {
     "name": "stdout",
     "output_type": "stream",
     "text": [
      "n_conv_in = 16\n",
      "n_conv_in = 8\n"
     ]
    },
    {
     "name": "stderr",
     "output_type": "stream",
     "text": [
      "100%|██████████| 3/3 [00:16<00:00,  5.41s/it]\n"
     ]
    },
    {
     "name": "stdout",
     "output_type": "stream",
     "text": [
      "n_conv_in = 16\n"
     ]
    },
    {
     "name": "stderr",
     "output_type": "stream",
     "text": [
      "100%|██████████| 3/3 [00:16<00:00,  5.39s/it]\n"
     ]
    },
    {
     "name": "stdout",
     "output_type": "stream",
     "text": [
      "n_conv_in = 32\n"
     ]
    },
    {
     "name": "stderr",
     "output_type": "stream",
     "text": [
      "100%|██████████| 3/3 [00:16<00:00,  5.50s/it]\n"
     ]
    },
    {
     "name": "stdout",
     "output_type": "stream",
     "text": [
      "n_conv_in = 64\n"
     ]
    },
    {
     "name": "stderr",
     "output_type": "stream",
     "text": [
      "100%|██████████| 3/3 [00:17<00:00,  5.84s/it]\n"
     ]
    },
    {
     "name": "stdout",
     "output_type": "stream",
     "text": [
      "n_conv_in = 128\n"
     ]
    },
    {
     "name": "stderr",
     "output_type": "stream",
     "text": [
      "100%|██████████| 3/3 [00:19<00:00,  6.42s/it]\n"
     ]
    },
    {
     "name": "stdout",
     "output_type": "stream",
     "text": [
      "n_conv_in = 256\n"
     ]
    },
    {
     "name": "stderr",
     "output_type": "stream",
     "text": [
      "100%|██████████| 3/3 [00:22<00:00,  7.66s/it]\n"
     ]
    },
    {
     "name": "stdout",
     "output_type": "stream",
     "text": [
      "n_conv_in = 32\n",
      "n_conv_in = 8\n"
     ]
    },
    {
     "name": "stderr",
     "output_type": "stream",
     "text": [
      "100%|██████████| 3/3 [00:16<00:00,  5.55s/it]\n"
     ]
    },
    {
     "name": "stdout",
     "output_type": "stream",
     "text": [
      "n_conv_in = 16\n"
     ]
    },
    {
     "name": "stderr",
     "output_type": "stream",
     "text": [
      "100%|██████████| 3/3 [00:16<00:00,  5.60s/it]\n"
     ]
    },
    {
     "name": "stdout",
     "output_type": "stream",
     "text": [
      "n_conv_in = 32\n"
     ]
    },
    {
     "name": "stderr",
     "output_type": "stream",
     "text": [
      "100%|██████████| 3/3 [00:16<00:00,  5.54s/it]\n"
     ]
    },
    {
     "name": "stdout",
     "output_type": "stream",
     "text": [
      "n_conv_in = 64\n"
     ]
    },
    {
     "name": "stderr",
     "output_type": "stream",
     "text": [
      "100%|██████████| 3/3 [00:17<00:00,  5.85s/it]\n"
     ]
    },
    {
     "name": "stdout",
     "output_type": "stream",
     "text": [
      "n_conv_in = 128\n"
     ]
    },
    {
     "name": "stderr",
     "output_type": "stream",
     "text": [
      "100%|██████████| 3/3 [00:19<00:00,  6.42s/it]\n"
     ]
    },
    {
     "name": "stdout",
     "output_type": "stream",
     "text": [
      "n_conv_in = 256\n"
     ]
    },
    {
     "name": "stderr",
     "output_type": "stream",
     "text": [
      "100%|██████████| 3/3 [00:23<00:00,  7.67s/it]\n"
     ]
    },
    {
     "name": "stdout",
     "output_type": "stream",
     "text": [
      "n_conv_in = 64\n",
      "n_conv_in = 8\n"
     ]
    },
    {
     "name": "stderr",
     "output_type": "stream",
     "text": [
      "100%|██████████| 3/3 [00:16<00:00,  5.44s/it]\n"
     ]
    },
    {
     "name": "stdout",
     "output_type": "stream",
     "text": [
      "n_conv_in = 16\n"
     ]
    },
    {
     "name": "stderr",
     "output_type": "stream",
     "text": [
      "100%|██████████| 3/3 [00:16<00:00,  5.42s/it]\n"
     ]
    },
    {
     "name": "stdout",
     "output_type": "stream",
     "text": [
      "n_conv_in = 32\n"
     ]
    },
    {
     "name": "stderr",
     "output_type": "stream",
     "text": [
      "100%|██████████| 3/3 [00:16<00:00,  5.52s/it]\n"
     ]
    },
    {
     "name": "stdout",
     "output_type": "stream",
     "text": [
      "n_conv_in = 64\n"
     ]
    },
    {
     "name": "stderr",
     "output_type": "stream",
     "text": [
      "100%|██████████| 3/3 [00:17<00:00,  5.88s/it]\n"
     ]
    },
    {
     "name": "stdout",
     "output_type": "stream",
     "text": [
      "n_conv_in = 128\n"
     ]
    },
    {
     "name": "stderr",
     "output_type": "stream",
     "text": [
      "100%|██████████| 3/3 [00:19<00:00,  6.45s/it]\n"
     ]
    },
    {
     "name": "stdout",
     "output_type": "stream",
     "text": [
      "n_conv_in = 256\n"
     ]
    },
    {
     "name": "stderr",
     "output_type": "stream",
     "text": [
      "100%|██████████| 3/3 [00:23<00:00,  7.70s/it]\n"
     ]
    },
    {
     "name": "stdout",
     "output_type": "stream",
     "text": [
      "n_conv_in = 128\n",
      "n_conv_in = 8\n"
     ]
    },
    {
     "name": "stderr",
     "output_type": "stream",
     "text": [
      "100%|██████████| 3/3 [00:16<00:00,  5.47s/it]\n"
     ]
    },
    {
     "name": "stdout",
     "output_type": "stream",
     "text": [
      "n_conv_in = 16\n"
     ]
    },
    {
     "name": "stderr",
     "output_type": "stream",
     "text": [
      "100%|██████████| 3/3 [00:16<00:00,  5.55s/it]\n"
     ]
    },
    {
     "name": "stdout",
     "output_type": "stream",
     "text": [
      "n_conv_in = 32\n"
     ]
    },
    {
     "name": "stderr",
     "output_type": "stream",
     "text": [
      "100%|██████████| 3/3 [00:16<00:00,  5.59s/it]\n"
     ]
    },
    {
     "name": "stdout",
     "output_type": "stream",
     "text": [
      "n_conv_in = 64\n"
     ]
    },
    {
     "name": "stderr",
     "output_type": "stream",
     "text": [
      "100%|██████████| 3/3 [00:17<00:00,  5.93s/it]\n"
     ]
    },
    {
     "name": "stdout",
     "output_type": "stream",
     "text": [
      "n_conv_in = 128\n"
     ]
    },
    {
     "name": "stderr",
     "output_type": "stream",
     "text": [
      "100%|██████████| 3/3 [00:19<00:00,  6.59s/it]\n"
     ]
    },
    {
     "name": "stdout",
     "output_type": "stream",
     "text": [
      "n_conv_in = 256\n"
     ]
    },
    {
     "name": "stderr",
     "output_type": "stream",
     "text": [
      "100%|██████████| 3/3 [00:23<00:00,  7.78s/it]\n"
     ]
    },
    {
     "name": "stdout",
     "output_type": "stream",
     "text": [
      "n_conv_in = 256\n",
      "n_conv_in = 8\n"
     ]
    },
    {
     "name": "stderr",
     "output_type": "stream",
     "text": [
      "100%|██████████| 3/3 [00:16<00:00,  5.47s/it]\n"
     ]
    },
    {
     "name": "stdout",
     "output_type": "stream",
     "text": [
      "n_conv_in = 16\n"
     ]
    },
    {
     "name": "stderr",
     "output_type": "stream",
     "text": [
      "100%|██████████| 3/3 [00:16<00:00,  5.44s/it]\n"
     ]
    },
    {
     "name": "stdout",
     "output_type": "stream",
     "text": [
      "n_conv_in = 32\n"
     ]
    },
    {
     "name": "stderr",
     "output_type": "stream",
     "text": [
      "100%|██████████| 3/3 [00:16<00:00,  5.58s/it]\n"
     ]
    },
    {
     "name": "stdout",
     "output_type": "stream",
     "text": [
      "n_conv_in = 64\n"
     ]
    },
    {
     "name": "stderr",
     "output_type": "stream",
     "text": [
      "100%|██████████| 3/3 [00:18<00:00,  6.05s/it]\n"
     ]
    },
    {
     "name": "stdout",
     "output_type": "stream",
     "text": [
      "n_conv_in = 128\n"
     ]
    },
    {
     "name": "stderr",
     "output_type": "stream",
     "text": [
      "100%|██████████| 3/3 [00:19<00:00,  6.48s/it]\n"
     ]
    },
    {
     "name": "stdout",
     "output_type": "stream",
     "text": [
      "n_conv_in = 256\n"
     ]
    },
    {
     "name": "stderr",
     "output_type": "stream",
     "text": [
      "100%|██████████| 3/3 [00:23<00:00,  7.82s/it]\n"
     ]
    },
    {
     "name": "stdout",
     "output_type": "stream",
     "text": [
      "n_conv_in2 = 8\n",
      "n_conv_in2 = 8\n"
     ]
    },
    {
     "name": "stderr",
     "output_type": "stream",
     "text": [
      "100%|██████████| 3/3 [00:20<00:00,  6.74s/it]\n"
     ]
    },
    {
     "name": "stdout",
     "output_type": "stream",
     "text": [
      "n_conv_in2 = 16\n"
     ]
    },
    {
     "name": "stderr",
     "output_type": "stream",
     "text": [
      "100%|██████████| 3/3 [00:20<00:00,  6.79s/it]\n"
     ]
    },
    {
     "name": "stdout",
     "output_type": "stream",
     "text": [
      "n_conv_in2 = 32\n"
     ]
    },
    {
     "name": "stderr",
     "output_type": "stream",
     "text": [
      "100%|██████████| 3/3 [00:20<00:00,  6.88s/it]\n"
     ]
    },
    {
     "name": "stdout",
     "output_type": "stream",
     "text": [
      "n_conv_in2 = 64\n"
     ]
    },
    {
     "name": "stderr",
     "output_type": "stream",
     "text": [
      "100%|██████████| 3/3 [00:21<00:00,  7.23s/it]\n"
     ]
    },
    {
     "name": "stdout",
     "output_type": "stream",
     "text": [
      "n_conv_in2 = 128\n"
     ]
    },
    {
     "name": "stderr",
     "output_type": "stream",
     "text": [
      "100%|██████████| 3/3 [00:23<00:00,  7.85s/it]\n"
     ]
    },
    {
     "name": "stdout",
     "output_type": "stream",
     "text": [
      "n_conv_in2 = 256\n"
     ]
    },
    {
     "name": "stderr",
     "output_type": "stream",
     "text": [
      "100%|██████████| 3/3 [00:27<00:00,  9.14s/it]\n"
     ]
    },
    {
     "name": "stdout",
     "output_type": "stream",
     "text": [
      "n_conv_in2 = 16\n",
      "n_conv_in2 = 8\n"
     ]
    },
    {
     "name": "stderr",
     "output_type": "stream",
     "text": [
      "100%|██████████| 3/3 [00:20<00:00,  6.68s/it]\n"
     ]
    },
    {
     "name": "stdout",
     "output_type": "stream",
     "text": [
      "n_conv_in2 = 16\n"
     ]
    },
    {
     "name": "stderr",
     "output_type": "stream",
     "text": [
      "100%|██████████| 3/3 [00:20<00:00,  6.74s/it]\n"
     ]
    },
    {
     "name": "stdout",
     "output_type": "stream",
     "text": [
      "n_conv_in2 = 32\n"
     ]
    },
    {
     "name": "stderr",
     "output_type": "stream",
     "text": [
      "100%|██████████| 3/3 [00:20<00:00,  6.82s/it]\n"
     ]
    },
    {
     "name": "stdout",
     "output_type": "stream",
     "text": [
      "n_conv_in2 = 64\n"
     ]
    },
    {
     "name": "stderr",
     "output_type": "stream",
     "text": [
      "100%|██████████| 3/3 [00:21<00:00,  7.17s/it]\n"
     ]
    },
    {
     "name": "stdout",
     "output_type": "stream",
     "text": [
      "n_conv_in2 = 128\n"
     ]
    },
    {
     "name": "stderr",
     "output_type": "stream",
     "text": [
      "100%|██████████| 3/3 [00:23<00:00,  7.83s/it]\n"
     ]
    },
    {
     "name": "stdout",
     "output_type": "stream",
     "text": [
      "n_conv_in2 = 256\n"
     ]
    },
    {
     "name": "stderr",
     "output_type": "stream",
     "text": [
      "100%|██████████| 3/3 [00:27<00:00,  9.21s/it]\n"
     ]
    },
    {
     "name": "stdout",
     "output_type": "stream",
     "text": [
      "n_conv_in2 = 32\n",
      "n_conv_in2 = 8\n"
     ]
    },
    {
     "name": "stderr",
     "output_type": "stream",
     "text": [
      "100%|██████████| 3/3 [00:20<00:00,  6.77s/it]\n"
     ]
    },
    {
     "name": "stdout",
     "output_type": "stream",
     "text": [
      "n_conv_in2 = 16\n"
     ]
    },
    {
     "name": "stderr",
     "output_type": "stream",
     "text": [
      "100%|██████████| 3/3 [00:20<00:00,  6.78s/it]\n"
     ]
    },
    {
     "name": "stdout",
     "output_type": "stream",
     "text": [
      "n_conv_in2 = 32\n"
     ]
    },
    {
     "name": "stderr",
     "output_type": "stream",
     "text": [
      "100%|██████████| 3/3 [00:20<00:00,  6.93s/it]\n"
     ]
    },
    {
     "name": "stdout",
     "output_type": "stream",
     "text": [
      "n_conv_in2 = 64\n"
     ]
    },
    {
     "name": "stderr",
     "output_type": "stream",
     "text": [
      "100%|██████████| 3/3 [00:21<00:00,  7.05s/it]\n"
     ]
    },
    {
     "name": "stdout",
     "output_type": "stream",
     "text": [
      "n_conv_in2 = 128\n"
     ]
    },
    {
     "name": "stderr",
     "output_type": "stream",
     "text": [
      "100%|██████████| 3/3 [00:23<00:00,  7.74s/it]\n"
     ]
    },
    {
     "name": "stdout",
     "output_type": "stream",
     "text": [
      "n_conv_in2 = 256\n"
     ]
    },
    {
     "name": "stderr",
     "output_type": "stream",
     "text": [
      "100%|██████████| 3/3 [00:27<00:00,  9.07s/it]\n"
     ]
    },
    {
     "name": "stdout",
     "output_type": "stream",
     "text": [
      "n_conv_in2 = 64\n",
      "n_conv_in2 = 8\n"
     ]
    },
    {
     "name": "stderr",
     "output_type": "stream",
     "text": [
      "100%|██████████| 3/3 [00:19<00:00,  6.63s/it]\n"
     ]
    },
    {
     "name": "stdout",
     "output_type": "stream",
     "text": [
      "n_conv_in2 = 16\n"
     ]
    },
    {
     "name": "stderr",
     "output_type": "stream",
     "text": [
      "100%|██████████| 3/3 [00:20<00:00,  6.68s/it]\n"
     ]
    },
    {
     "name": "stdout",
     "output_type": "stream",
     "text": [
      "n_conv_in2 = 32\n"
     ]
    },
    {
     "name": "stderr",
     "output_type": "stream",
     "text": [
      "100%|██████████| 3/3 [00:20<00:00,  6.78s/it]\n"
     ]
    },
    {
     "name": "stdout",
     "output_type": "stream",
     "text": [
      "n_conv_in2 = 64\n"
     ]
    },
    {
     "name": "stderr",
     "output_type": "stream",
     "text": [
      "100%|██████████| 3/3 [00:21<00:00,  7.07s/it]\n"
     ]
    },
    {
     "name": "stdout",
     "output_type": "stream",
     "text": [
      "n_conv_in2 = 128\n"
     ]
    },
    {
     "name": "stderr",
     "output_type": "stream",
     "text": [
      "100%|██████████| 3/3 [00:23<00:00,  7.75s/it]\n"
     ]
    },
    {
     "name": "stdout",
     "output_type": "stream",
     "text": [
      "n_conv_in2 = 256\n"
     ]
    },
    {
     "name": "stderr",
     "output_type": "stream",
     "text": [
      "100%|██████████| 3/3 [00:27<00:00,  9.06s/it]\n"
     ]
    },
    {
     "name": "stdout",
     "output_type": "stream",
     "text": [
      "n_conv_in2 = 128\n",
      "n_conv_in2 = 8\n"
     ]
    },
    {
     "name": "stderr",
     "output_type": "stream",
     "text": [
      "100%|██████████| 3/3 [00:19<00:00,  6.64s/it]\n"
     ]
    },
    {
     "name": "stdout",
     "output_type": "stream",
     "text": [
      "n_conv_in2 = 16\n"
     ]
    },
    {
     "name": "stderr",
     "output_type": "stream",
     "text": [
      "100%|██████████| 3/3 [00:20<00:00,  6.68s/it]\n"
     ]
    },
    {
     "name": "stdout",
     "output_type": "stream",
     "text": [
      "n_conv_in2 = 32\n"
     ]
    },
    {
     "name": "stderr",
     "output_type": "stream",
     "text": [
      "100%|██████████| 3/3 [00:20<00:00,  6.81s/it]\n"
     ]
    },
    {
     "name": "stdout",
     "output_type": "stream",
     "text": [
      "n_conv_in2 = 64\n"
     ]
    },
    {
     "name": "stderr",
     "output_type": "stream",
     "text": [
      "100%|██████████| 3/3 [00:21<00:00,  7.04s/it]\n"
     ]
    },
    {
     "name": "stdout",
     "output_type": "stream",
     "text": [
      "n_conv_in2 = 128\n"
     ]
    },
    {
     "name": "stderr",
     "output_type": "stream",
     "text": [
      "100%|██████████| 3/3 [00:23<00:00,  7.75s/it]\n"
     ]
    },
    {
     "name": "stdout",
     "output_type": "stream",
     "text": [
      "n_conv_in2 = 256\n"
     ]
    },
    {
     "name": "stderr",
     "output_type": "stream",
     "text": [
      "100%|██████████| 3/3 [00:27<00:00,  9.04s/it]\n"
     ]
    },
    {
     "name": "stdout",
     "output_type": "stream",
     "text": [
      "n_conv_in2 = 256\n",
      "n_conv_in2 = 8\n"
     ]
    },
    {
     "name": "stderr",
     "output_type": "stream",
     "text": [
      "100%|██████████| 3/3 [00:19<00:00,  6.64s/it]\n"
     ]
    },
    {
     "name": "stdout",
     "output_type": "stream",
     "text": [
      "n_conv_in2 = 16\n"
     ]
    },
    {
     "name": "stderr",
     "output_type": "stream",
     "text": [
      "100%|██████████| 3/3 [00:20<00:00,  6.69s/it]\n"
     ]
    },
    {
     "name": "stdout",
     "output_type": "stream",
     "text": [
      "n_conv_in2 = 32\n"
     ]
    },
    {
     "name": "stderr",
     "output_type": "stream",
     "text": [
      "100%|██████████| 3/3 [00:20<00:00,  6.77s/it]\n"
     ]
    },
    {
     "name": "stdout",
     "output_type": "stream",
     "text": [
      "n_conv_in2 = 64\n"
     ]
    },
    {
     "name": "stderr",
     "output_type": "stream",
     "text": [
      "100%|██████████| 3/3 [00:21<00:00,  7.09s/it]\n"
     ]
    },
    {
     "name": "stdout",
     "output_type": "stream",
     "text": [
      "n_conv_in2 = 128\n"
     ]
    },
    {
     "name": "stderr",
     "output_type": "stream",
     "text": [
      "100%|██████████| 3/3 [00:23<00:00,  7.71s/it]\n"
     ]
    },
    {
     "name": "stdout",
     "output_type": "stream",
     "text": [
      "n_conv_in2 = 256\n"
     ]
    },
    {
     "name": "stderr",
     "output_type": "stream",
     "text": [
      "100%|██████████| 3/3 [00:27<00:00,  9.05s/it]\n"
     ]
    },
    {
     "data": {
      "text/plain": [
       "(<Functional_Data_functions.HyperParameters at 0x187013a7250>,\n",
       " tensor([80.5128, 82.5641, 81.0256, 80.7692, 81.2821, 81.5385, 83.0769, 82.8205,\n",
       "         83.3333, 80.5128]))"
      ]
     },
     "execution_count": 21,
     "metadata": {},
     "output_type": "execute_result"
    }
   ],
   "source": [
    "##Rercherche sur toutes les grilles\n",
    "#ATTENTION: Très long\n",
    "#à faire tourner avant une randonnée\n",
    "opt_hyperparams,Final_acc=Hyperparameter_Search(\n",
    "    model_class=\"TSC\",\n",
    "    hyperparams=param_lstm,\n",
    "    grids=grids,\n",
    "    data_dict=data_dict3,## Sofa\n",
    "    supra_epochs=3, ## Monte_Carlo\n",
    "    parameters=parametres_a_tester,\n",
    "\n",
    "    )"
   ]
  },
  {
   "cell_type": "code",
   "execution_count": 22,
   "metadata": {},
   "outputs": [
    {
     "data": {
      "text/plain": [
       "(8, 512, 128)"
      ]
     },
     "execution_count": 22,
     "metadata": {},
     "output_type": "execute_result"
    }
   ],
   "source": [
    "#Nombre de kernels optimaux:\n",
    "param_special['TSC']['Sofa'].n_conv_in ,param_special['TSC']['Sofa'].n_conv_in2, param_special['TSC']['Sofa'].n_conv_in3"
   ]
  },
  {
   "cell_type": "code",
   "execution_count": 46,
   "metadata": {},
   "outputs": [],
   "source": [
    "\n",
    "# #Modification des paramètres si nécessaire\n",
    "# param_special[model_list[0]][\"Phoneme\"].derivative=[0,1]\n",
    "# param_special[model_list[0]][\"Phoneme\"].n_conv_in3=128\n",
    "# param_special[model_list[0]][\"Phoneme\"].kernel_size_1=7\n",
    "# param_special[model_list[0]][\"Phoneme\"].opt='SGD'\n",
    "# param_special[model_list[0]][\"Phoneme\"].lr=0.00089\n",
    "\n",
    "# param_special[model_list[0]][\"Phoneme\"].DropOut=0.2\n",
    "\n",
    "\n",
    "# param_special[model_list[0]][\"El Nino\"].kernel_size_1=11\n",
    "# param_special[model_list[0]][\"El Nino\"].n_conv_in3=128\n",
    "# param_special[model_list[0]][\"El Nino\"].derivative=[0,1]\n",
    "# param_special[model_list[0]][\"El Nino\"].opt='Adam'\n",
    "# param_special[model_list[0]][\"El Nino\"].activation=nn.Identity()\n",
    "# param_special[model_list[0]][\"Sofa\"].derivative=[0,1]\n",
    "# param_special[model_list[0]][\"Sofa\"].n_conv_in3=128\n",
    "# param_special[model_list[0]][\"Sofa\"].DropOut=0.4\n",
    "# param_special[model_list[0]][\"Sofa\"].order=3\n",
    "\n",
    "# param_special[model_list[0]][\"Canadian Weather\"].opt=\"SGD\"\n",
    "# param_special[model_list[0]][\"Canadian Weather\"].lr=0.00089\n",
    "\n",
    "# param_special[model_list[0]][\"Canadian Weather\"].derivative=[0,1]\n",
    "# param_special[model_list[0]][\"Tecator\"].derivative=[0]\n",
    "# param_special[model_list[0]][\"Tecator\"].kernel_size_1=7\n",
    "\n",
    "# param_special[model_list[0]][\"Tecator\"].opt='SGD'\n",
    "# param_special[model_list[0]][\"Tecator\"].lr=0.00089\n",
    "# param_TSCNN_sofa=param_special[model_list[0]][\"Sofa\"]\n",
    "# param_TSCNN_phoneme=param_special[model_list[0]][\"Phoneme\"]\n",
    "# param_TSCNN_tecator=param_special[model_list[0]][\"Tecator\"]\n",
    "# # param_TSCNN_tecator.opt='SGD'\n",
    "\n",
    "# # param_TSCNN_tecator.lr=0.0089\n",
    "# # param_TSCNN_tecator.order=3\n",
    "# # param_TSCNN_tecator.n_knots=6\n",
    "# # param_TSCNN_tecator.derivative=[0]\n",
    "\n",
    "# # # param_TSCNN_tecator.kernel_size_1=7\n",
    "# # param_TSCNN_tecator.granulation=2100\n",
    "# # param_TSCNN_tecator.loss=nn.MSELoss()\n",
    "# # param_TSCNN_tecator.DropOut=0.089\n",
    "\n",
    "# # param_TSCNN_tecator.dilation_1=120\n",
    "# # param_TSCNN_tecator.activation=nn.Identity()\n",
    "# # # param_TSCNN_tecator.n_conv_in=259\n",
    "\n",
    "# # param_TSCNN_tecator.stride_1=100\n",
    "# # param_TSCNN_tecator.kernel_size_1\n",
    "# # param_TSCNN_tecator.granulation"
   ]
  }
 ],
 "metadata": {
  "kernelspec": {
   "display_name": "base",
   "language": "python",
   "name": "python3"
  },
  "language_info": {
   "codemirror_mode": {
    "name": "ipython",
    "version": 3
   },
   "file_extension": ".py",
   "mimetype": "text/x-python",
   "name": "python",
   "nbconvert_exporter": "python",
   "pygments_lexer": "ipython3",
   "version": "3.9.13"
  }
 },
 "nbformat": 4,
 "nbformat_minor": 2
}
